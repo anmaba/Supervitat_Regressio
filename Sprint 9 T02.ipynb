{
 "cells": [
  {
   "cell_type": "markdown",
   "id": "c70b8603",
   "metadata": {},
   "source": [
    "# S09 T02: Aprenentatge Supervisat - Regressions\n",
    "\n",
    "Descripció:\n",
    "\n",
    "Anem a practicar i a familiaritzar-nos amb regressions\n",
    "\n",
    "## NIVELL 1\n",
    "\n",
    "\n",
    "### Exercici 1\n",
    "Crea almenys tres models de regressió diferents per intentar predir el millor possible l’endarreriment dels vols (ArrDelay) de DelayedFlights.csv.\n",
    "\n"
   ]
  },
  {
   "cell_type": "code",
   "execution_count": 1,
   "id": "bfc8a41c",
   "metadata": {
    "ExecuteTime": {
     "end_time": "2022-07-04T08:01:06.340752Z",
     "start_time": "2022-07-04T08:00:52.749643Z"
    }
   },
   "outputs": [
    {
     "data": {
      "text/html": [
       "<div>\n",
       "<style scoped>\n",
       "    .dataframe tbody tr th:only-of-type {\n",
       "        vertical-align: middle;\n",
       "    }\n",
       "\n",
       "    .dataframe tbody tr th {\n",
       "        vertical-align: top;\n",
       "    }\n",
       "\n",
       "    .dataframe thead th {\n",
       "        text-align: right;\n",
       "    }\n",
       "</style>\n",
       "<table border=\"1\" class=\"dataframe\">\n",
       "  <thead>\n",
       "    <tr style=\"text-align: right;\">\n",
       "      <th></th>\n",
       "      <th>Unnamed: 0</th>\n",
       "      <th>Year</th>\n",
       "      <th>Month</th>\n",
       "      <th>DayofMonth</th>\n",
       "      <th>DayOfWeek</th>\n",
       "      <th>DepTime</th>\n",
       "      <th>CRSDepTime</th>\n",
       "      <th>ArrTime</th>\n",
       "      <th>CRSArrTime</th>\n",
       "      <th>UniqueCarrier</th>\n",
       "      <th>...</th>\n",
       "      <th>TaxiIn</th>\n",
       "      <th>TaxiOut</th>\n",
       "      <th>Cancelled</th>\n",
       "      <th>CancellationCode</th>\n",
       "      <th>Diverted</th>\n",
       "      <th>CarrierDelay</th>\n",
       "      <th>WeatherDelay</th>\n",
       "      <th>NASDelay</th>\n",
       "      <th>SecurityDelay</th>\n",
       "      <th>LateAircraftDelay</th>\n",
       "    </tr>\n",
       "  </thead>\n",
       "  <tbody>\n",
       "    <tr>\n",
       "      <th>3</th>\n",
       "      <td>4</td>\n",
       "      <td>2008</td>\n",
       "      <td>1</td>\n",
       "      <td>3</td>\n",
       "      <td>4</td>\n",
       "      <td>1829.0</td>\n",
       "      <td>1755</td>\n",
       "      <td>1959.0</td>\n",
       "      <td>1925</td>\n",
       "      <td>WN</td>\n",
       "      <td>...</td>\n",
       "      <td>3.0</td>\n",
       "      <td>10.0</td>\n",
       "      <td>0</td>\n",
       "      <td>N</td>\n",
       "      <td>0</td>\n",
       "      <td>2.0</td>\n",
       "      <td>0.0</td>\n",
       "      <td>0.0</td>\n",
       "      <td>0.0</td>\n",
       "      <td>32.0</td>\n",
       "    </tr>\n",
       "    <tr>\n",
       "      <th>5</th>\n",
       "      <td>6</td>\n",
       "      <td>2008</td>\n",
       "      <td>1</td>\n",
       "      <td>3</td>\n",
       "      <td>4</td>\n",
       "      <td>1937.0</td>\n",
       "      <td>1830</td>\n",
       "      <td>2037.0</td>\n",
       "      <td>1940</td>\n",
       "      <td>WN</td>\n",
       "      <td>...</td>\n",
       "      <td>3.0</td>\n",
       "      <td>7.0</td>\n",
       "      <td>0</td>\n",
       "      <td>N</td>\n",
       "      <td>0</td>\n",
       "      <td>10.0</td>\n",
       "      <td>0.0</td>\n",
       "      <td>0.0</td>\n",
       "      <td>0.0</td>\n",
       "      <td>47.0</td>\n",
       "    </tr>\n",
       "    <tr>\n",
       "      <th>7</th>\n",
       "      <td>11</td>\n",
       "      <td>2008</td>\n",
       "      <td>1</td>\n",
       "      <td>3</td>\n",
       "      <td>4</td>\n",
       "      <td>1644.0</td>\n",
       "      <td>1510</td>\n",
       "      <td>1845.0</td>\n",
       "      <td>1725</td>\n",
       "      <td>WN</td>\n",
       "      <td>...</td>\n",
       "      <td>6.0</td>\n",
       "      <td>8.0</td>\n",
       "      <td>0</td>\n",
       "      <td>N</td>\n",
       "      <td>0</td>\n",
       "      <td>8.0</td>\n",
       "      <td>0.0</td>\n",
       "      <td>0.0</td>\n",
       "      <td>0.0</td>\n",
       "      <td>72.0</td>\n",
       "    </tr>\n",
       "    <tr>\n",
       "      <th>9</th>\n",
       "      <td>16</td>\n",
       "      <td>2008</td>\n",
       "      <td>1</td>\n",
       "      <td>3</td>\n",
       "      <td>4</td>\n",
       "      <td>1452.0</td>\n",
       "      <td>1425</td>\n",
       "      <td>1640.0</td>\n",
       "      <td>1625</td>\n",
       "      <td>WN</td>\n",
       "      <td>...</td>\n",
       "      <td>7.0</td>\n",
       "      <td>8.0</td>\n",
       "      <td>0</td>\n",
       "      <td>N</td>\n",
       "      <td>0</td>\n",
       "      <td>3.0</td>\n",
       "      <td>0.0</td>\n",
       "      <td>0.0</td>\n",
       "      <td>0.0</td>\n",
       "      <td>12.0</td>\n",
       "    </tr>\n",
       "    <tr>\n",
       "      <th>11</th>\n",
       "      <td>18</td>\n",
       "      <td>2008</td>\n",
       "      <td>1</td>\n",
       "      <td>3</td>\n",
       "      <td>4</td>\n",
       "      <td>1323.0</td>\n",
       "      <td>1255</td>\n",
       "      <td>1526.0</td>\n",
       "      <td>1510</td>\n",
       "      <td>WN</td>\n",
       "      <td>...</td>\n",
       "      <td>4.0</td>\n",
       "      <td>9.0</td>\n",
       "      <td>0</td>\n",
       "      <td>N</td>\n",
       "      <td>0</td>\n",
       "      <td>0.0</td>\n",
       "      <td>0.0</td>\n",
       "      <td>0.0</td>\n",
       "      <td>0.0</td>\n",
       "      <td>16.0</td>\n",
       "    </tr>\n",
       "    <tr>\n",
       "      <th>...</th>\n",
       "      <td>...</td>\n",
       "      <td>...</td>\n",
       "      <td>...</td>\n",
       "      <td>...</td>\n",
       "      <td>...</td>\n",
       "      <td>...</td>\n",
       "      <td>...</td>\n",
       "      <td>...</td>\n",
       "      <td>...</td>\n",
       "      <td>...</td>\n",
       "      <td>...</td>\n",
       "      <td>...</td>\n",
       "      <td>...</td>\n",
       "      <td>...</td>\n",
       "      <td>...</td>\n",
       "      <td>...</td>\n",
       "      <td>...</td>\n",
       "      <td>...</td>\n",
       "      <td>...</td>\n",
       "      <td>...</td>\n",
       "      <td>...</td>\n",
       "    </tr>\n",
       "    <tr>\n",
       "      <th>1936751</th>\n",
       "      <td>7009705</td>\n",
       "      <td>2008</td>\n",
       "      <td>12</td>\n",
       "      <td>13</td>\n",
       "      <td>6</td>\n",
       "      <td>921.0</td>\n",
       "      <td>830</td>\n",
       "      <td>1112.0</td>\n",
       "      <td>1008</td>\n",
       "      <td>DL</td>\n",
       "      <td>...</td>\n",
       "      <td>8.0</td>\n",
       "      <td>21.0</td>\n",
       "      <td>0</td>\n",
       "      <td>N</td>\n",
       "      <td>0</td>\n",
       "      <td>51.0</td>\n",
       "      <td>0.0</td>\n",
       "      <td>13.0</td>\n",
       "      <td>0.0</td>\n",
       "      <td>0.0</td>\n",
       "    </tr>\n",
       "    <tr>\n",
       "      <th>1936752</th>\n",
       "      <td>7009709</td>\n",
       "      <td>2008</td>\n",
       "      <td>12</td>\n",
       "      <td>13</td>\n",
       "      <td>6</td>\n",
       "      <td>1552.0</td>\n",
       "      <td>1520</td>\n",
       "      <td>1735.0</td>\n",
       "      <td>1718</td>\n",
       "      <td>DL</td>\n",
       "      <td>...</td>\n",
       "      <td>9.0</td>\n",
       "      <td>7.0</td>\n",
       "      <td>0</td>\n",
       "      <td>N</td>\n",
       "      <td>0</td>\n",
       "      <td>0.0</td>\n",
       "      <td>0.0</td>\n",
       "      <td>0.0</td>\n",
       "      <td>0.0</td>\n",
       "      <td>17.0</td>\n",
       "    </tr>\n",
       "    <tr>\n",
       "      <th>1936753</th>\n",
       "      <td>7009710</td>\n",
       "      <td>2008</td>\n",
       "      <td>12</td>\n",
       "      <td>13</td>\n",
       "      <td>6</td>\n",
       "      <td>1250.0</td>\n",
       "      <td>1220</td>\n",
       "      <td>1617.0</td>\n",
       "      <td>1552</td>\n",
       "      <td>DL</td>\n",
       "      <td>...</td>\n",
       "      <td>9.0</td>\n",
       "      <td>18.0</td>\n",
       "      <td>0</td>\n",
       "      <td>N</td>\n",
       "      <td>0</td>\n",
       "      <td>3.0</td>\n",
       "      <td>0.0</td>\n",
       "      <td>0.0</td>\n",
       "      <td>0.0</td>\n",
       "      <td>22.0</td>\n",
       "    </tr>\n",
       "    <tr>\n",
       "      <th>1936754</th>\n",
       "      <td>7009717</td>\n",
       "      <td>2008</td>\n",
       "      <td>12</td>\n",
       "      <td>13</td>\n",
       "      <td>6</td>\n",
       "      <td>657.0</td>\n",
       "      <td>600</td>\n",
       "      <td>904.0</td>\n",
       "      <td>749</td>\n",
       "      <td>DL</td>\n",
       "      <td>...</td>\n",
       "      <td>15.0</td>\n",
       "      <td>34.0</td>\n",
       "      <td>0</td>\n",
       "      <td>N</td>\n",
       "      <td>0</td>\n",
       "      <td>0.0</td>\n",
       "      <td>57.0</td>\n",
       "      <td>18.0</td>\n",
       "      <td>0.0</td>\n",
       "      <td>0.0</td>\n",
       "    </tr>\n",
       "    <tr>\n",
       "      <th>1936755</th>\n",
       "      <td>7009718</td>\n",
       "      <td>2008</td>\n",
       "      <td>12</td>\n",
       "      <td>13</td>\n",
       "      <td>6</td>\n",
       "      <td>1007.0</td>\n",
       "      <td>847</td>\n",
       "      <td>1149.0</td>\n",
       "      <td>1010</td>\n",
       "      <td>DL</td>\n",
       "      <td>...</td>\n",
       "      <td>8.0</td>\n",
       "      <td>32.0</td>\n",
       "      <td>0</td>\n",
       "      <td>N</td>\n",
       "      <td>0</td>\n",
       "      <td>1.0</td>\n",
       "      <td>0.0</td>\n",
       "      <td>19.0</td>\n",
       "      <td>0.0</td>\n",
       "      <td>79.0</td>\n",
       "    </tr>\n",
       "  </tbody>\n",
       "</table>\n",
       "<p>1247486 rows × 30 columns</p>\n",
       "</div>"
      ],
      "text/plain": [
       "         Unnamed: 0  Year  Month  DayofMonth  DayOfWeek  DepTime  CRSDepTime  \\\n",
       "3                 4  2008      1           3          4   1829.0        1755   \n",
       "5                 6  2008      1           3          4   1937.0        1830   \n",
       "7                11  2008      1           3          4   1644.0        1510   \n",
       "9                16  2008      1           3          4   1452.0        1425   \n",
       "11               18  2008      1           3          4   1323.0        1255   \n",
       "...             ...   ...    ...         ...        ...      ...         ...   \n",
       "1936751     7009705  2008     12          13          6    921.0         830   \n",
       "1936752     7009709  2008     12          13          6   1552.0        1520   \n",
       "1936753     7009710  2008     12          13          6   1250.0        1220   \n",
       "1936754     7009717  2008     12          13          6    657.0         600   \n",
       "1936755     7009718  2008     12          13          6   1007.0         847   \n",
       "\n",
       "         ArrTime  CRSArrTime UniqueCarrier  ...  TaxiIn TaxiOut  Cancelled  \\\n",
       "3         1959.0        1925            WN  ...     3.0    10.0          0   \n",
       "5         2037.0        1940            WN  ...     3.0     7.0          0   \n",
       "7         1845.0        1725            WN  ...     6.0     8.0          0   \n",
       "9         1640.0        1625            WN  ...     7.0     8.0          0   \n",
       "11        1526.0        1510            WN  ...     4.0     9.0          0   \n",
       "...          ...         ...           ...  ...     ...     ...        ...   \n",
       "1936751   1112.0        1008            DL  ...     8.0    21.0          0   \n",
       "1936752   1735.0        1718            DL  ...     9.0     7.0          0   \n",
       "1936753   1617.0        1552            DL  ...     9.0    18.0          0   \n",
       "1936754    904.0         749            DL  ...    15.0    34.0          0   \n",
       "1936755   1149.0        1010            DL  ...     8.0    32.0          0   \n",
       "\n",
       "         CancellationCode  Diverted  CarrierDelay  WeatherDelay NASDelay  \\\n",
       "3                       N         0           2.0           0.0      0.0   \n",
       "5                       N         0          10.0           0.0      0.0   \n",
       "7                       N         0           8.0           0.0      0.0   \n",
       "9                       N         0           3.0           0.0      0.0   \n",
       "11                      N         0           0.0           0.0      0.0   \n",
       "...                   ...       ...           ...           ...      ...   \n",
       "1936751                 N         0          51.0           0.0     13.0   \n",
       "1936752                 N         0           0.0           0.0      0.0   \n",
       "1936753                 N         0           3.0           0.0      0.0   \n",
       "1936754                 N         0           0.0          57.0     18.0   \n",
       "1936755                 N         0           1.0           0.0     19.0   \n",
       "\n",
       "        SecurityDelay  LateAircraftDelay  \n",
       "3                 0.0               32.0  \n",
       "5                 0.0               47.0  \n",
       "7                 0.0               72.0  \n",
       "9                 0.0               12.0  \n",
       "11                0.0               16.0  \n",
       "...               ...                ...  \n",
       "1936751           0.0                0.0  \n",
       "1936752           0.0               17.0  \n",
       "1936753           0.0               22.0  \n",
       "1936754           0.0                0.0  \n",
       "1936755           0.0               79.0  \n",
       "\n",
       "[1247486 rows x 30 columns]"
      ]
     },
     "metadata": {},
     "output_type": "display_data"
    }
   ],
   "source": [
    "# Crido a les llibreries necessàries\n",
    "# Faig entrar l'arxiu CSV gràcies a pandas\n",
    "\n",
    "import pandas as pd\n",
    "import numpy as np\n",
    "import matplotlib.pyplot as plt\n",
    "import seaborn as sns\n",
    "\n",
    "delayedFlightsAmbNaN = pd.read_csv(r'C:\\Users\\Anna\\DataScience\\SPRINTS\\SPRINT 9\\DelayedFlights\\DelayedFlights2.csv')\n",
    "\n",
    "\n",
    "# Elimino els NaN per fer el dataset algo més petit\n",
    "delayedFlights = delayedFlightsAmbNaN.dropna()\n",
    "\n",
    "display(delayedFlights)\n"
   ]
  },
  {
   "cell_type": "code",
   "execution_count": 2,
   "id": "f76e6749",
   "metadata": {
    "ExecuteTime": {
     "end_time": "2022-07-04T08:01:06.898405Z",
     "start_time": "2022-07-04T08:01:06.343750Z"
    }
   },
   "outputs": [
    {
     "data": {
      "text/plain": [
       "Unnamed: 0           1247486\n",
       "Year                 1247486\n",
       "Month                1247486\n",
       "DayofMonth           1247486\n",
       "DayOfWeek            1247486\n",
       "DepTime              1247486\n",
       "CRSDepTime           1247486\n",
       "ArrTime              1247486\n",
       "CRSArrTime           1247486\n",
       "UniqueCarrier        1247486\n",
       "FlightNum            1247486\n",
       "TailNum              1247486\n",
       "ActualElapsedTime    1247486\n",
       "CRSElapsedTime       1247486\n",
       "AirTime              1247486\n",
       "ArrDelay             1247486\n",
       "DepDelay             1247486\n",
       "Origin               1247486\n",
       "Dest                 1247486\n",
       "Distance             1247486\n",
       "TaxiIn               1247486\n",
       "TaxiOut              1247486\n",
       "Cancelled            1247486\n",
       "CancellationCode     1247486\n",
       "Diverted             1247486\n",
       "CarrierDelay         1247486\n",
       "WeatherDelay         1247486\n",
       "NASDelay             1247486\n",
       "SecurityDelay        1247486\n",
       "LateAircraftDelay    1247486\n",
       "dtype: int64"
      ]
     },
     "execution_count": 2,
     "metadata": {},
     "output_type": "execute_result"
    }
   ],
   "source": [
    "delayedFlights.count()"
   ]
  },
  {
   "cell_type": "code",
   "execution_count": 3,
   "id": "c120075e",
   "metadata": {
    "ExecuteTime": {
     "end_time": "2022-07-04T08:01:06.914398Z",
     "start_time": "2022-07-04T08:01:06.902402Z"
    }
   },
   "outputs": [
    {
     "data": {
      "text/plain": [
       "(1247486, 30)"
      ]
     },
     "execution_count": 3,
     "metadata": {},
     "output_type": "execute_result"
    }
   ],
   "source": [
    "delayedFlights.shape"
   ]
  },
  {
   "cell_type": "code",
   "execution_count": 4,
   "id": "63e397b1",
   "metadata": {
    "ExecuteTime": {
     "end_time": "2022-07-04T08:01:08.331007Z",
     "start_time": "2022-07-04T08:01:06.917396Z"
    }
   },
   "outputs": [
    {
     "data": {
      "text/html": [
       "<div>\n",
       "<style scoped>\n",
       "    .dataframe tbody tr th:only-of-type {\n",
       "        vertical-align: middle;\n",
       "    }\n",
       "\n",
       "    .dataframe tbody tr th {\n",
       "        vertical-align: top;\n",
       "    }\n",
       "\n",
       "    .dataframe thead th {\n",
       "        text-align: right;\n",
       "    }\n",
       "</style>\n",
       "<table border=\"1\" class=\"dataframe\">\n",
       "  <thead>\n",
       "    <tr style=\"text-align: right;\">\n",
       "      <th></th>\n",
       "      <th>Unnamed: 0</th>\n",
       "      <th>Year</th>\n",
       "      <th>Month</th>\n",
       "      <th>DayofMonth</th>\n",
       "      <th>DayOfWeek</th>\n",
       "      <th>DepTime</th>\n",
       "      <th>CRSDepTime</th>\n",
       "      <th>ArrTime</th>\n",
       "      <th>CRSArrTime</th>\n",
       "      <th>FlightNum</th>\n",
       "      <th>...</th>\n",
       "      <th>Distance</th>\n",
       "      <th>TaxiIn</th>\n",
       "      <th>TaxiOut</th>\n",
       "      <th>Cancelled</th>\n",
       "      <th>Diverted</th>\n",
       "      <th>CarrierDelay</th>\n",
       "      <th>WeatherDelay</th>\n",
       "      <th>NASDelay</th>\n",
       "      <th>SecurityDelay</th>\n",
       "      <th>LateAircraftDelay</th>\n",
       "    </tr>\n",
       "  </thead>\n",
       "  <tbody>\n",
       "    <tr>\n",
       "      <th>count</th>\n",
       "      <td>1.247486e+06</td>\n",
       "      <td>1247486.0</td>\n",
       "      <td>1.247486e+06</td>\n",
       "      <td>1.247486e+06</td>\n",
       "      <td>1.247486e+06</td>\n",
       "      <td>1.247486e+06</td>\n",
       "      <td>1.247486e+06</td>\n",
       "      <td>1.247486e+06</td>\n",
       "      <td>1.247486e+06</td>\n",
       "      <td>1.247486e+06</td>\n",
       "      <td>...</td>\n",
       "      <td>1.247486e+06</td>\n",
       "      <td>1.247486e+06</td>\n",
       "      <td>1.247486e+06</td>\n",
       "      <td>1247486.0</td>\n",
       "      <td>1247486.0</td>\n",
       "      <td>1.247486e+06</td>\n",
       "      <td>1.247486e+06</td>\n",
       "      <td>1.247486e+06</td>\n",
       "      <td>1.247486e+06</td>\n",
       "      <td>1.247486e+06</td>\n",
       "    </tr>\n",
       "    <tr>\n",
       "      <th>mean</th>\n",
       "      <td>3.319515e+06</td>\n",
       "      <td>2008.0</td>\n",
       "      <td>6.065399e+00</td>\n",
       "      <td>1.572542e+01</td>\n",
       "      <td>3.980082e+00</td>\n",
       "      <td>1.558832e+03</td>\n",
       "      <td>1.487949e+03</td>\n",
       "      <td>1.616749e+03</td>\n",
       "      <td>1.652458e+03</td>\n",
       "      <td>2.276526e+03</td>\n",
       "      <td>...</td>\n",
       "      <td>7.415867e+02</td>\n",
       "      <td>7.297232e+00</td>\n",
       "      <td>2.066033e+01</td>\n",
       "      <td>0.0</td>\n",
       "      <td>0.0</td>\n",
       "      <td>1.917943e+01</td>\n",
       "      <td>3.703355e+00</td>\n",
       "      <td>1.502162e+01</td>\n",
       "      <td>9.013728e-02</td>\n",
       "      <td>2.529649e+01</td>\n",
       "    </tr>\n",
       "    <tr>\n",
       "      <th>std</th>\n",
       "      <td>2.079531e+06</td>\n",
       "      <td>0.0</td>\n",
       "      <td>3.508937e+00</td>\n",
       "      <td>8.793008e+00</td>\n",
       "      <td>1.993270e+00</td>\n",
       "      <td>4.543300e+02</td>\n",
       "      <td>4.211782e+02</td>\n",
       "      <td>5.839416e+02</td>\n",
       "      <td>4.617372e+02</td>\n",
       "      <td>1.997547e+03</td>\n",
       "      <td>...</td>\n",
       "      <td>5.593643e+02</td>\n",
       "      <td>6.033239e+00</td>\n",
       "      <td>1.667983e+01</td>\n",
       "      <td>0.0</td>\n",
       "      <td>0.0</td>\n",
       "      <td>4.354624e+01</td>\n",
       "      <td>2.149153e+01</td>\n",
       "      <td>3.383308e+01</td>\n",
       "      <td>2.022716e+00</td>\n",
       "      <td>4.205489e+01</td>\n",
       "    </tr>\n",
       "    <tr>\n",
       "      <th>min</th>\n",
       "      <td>4.000000e+00</td>\n",
       "      <td>2008.0</td>\n",
       "      <td>1.000000e+00</td>\n",
       "      <td>1.000000e+00</td>\n",
       "      <td>1.000000e+00</td>\n",
       "      <td>1.000000e+00</td>\n",
       "      <td>0.000000e+00</td>\n",
       "      <td>1.000000e+00</td>\n",
       "      <td>0.000000e+00</td>\n",
       "      <td>1.000000e+00</td>\n",
       "      <td>...</td>\n",
       "      <td>1.100000e+01</td>\n",
       "      <td>0.000000e+00</td>\n",
       "      <td>0.000000e+00</td>\n",
       "      <td>0.0</td>\n",
       "      <td>0.0</td>\n",
       "      <td>0.000000e+00</td>\n",
       "      <td>0.000000e+00</td>\n",
       "      <td>0.000000e+00</td>\n",
       "      <td>0.000000e+00</td>\n",
       "      <td>0.000000e+00</td>\n",
       "    </tr>\n",
       "    <tr>\n",
       "      <th>25%</th>\n",
       "      <td>1.484624e+06</td>\n",
       "      <td>2008.0</td>\n",
       "      <td>3.000000e+00</td>\n",
       "      <td>8.000000e+00</td>\n",
       "      <td>2.000000e+00</td>\n",
       "      <td>1.232000e+03</td>\n",
       "      <td>1.150000e+03</td>\n",
       "      <td>1.326000e+03</td>\n",
       "      <td>1.340000e+03</td>\n",
       "      <td>6.370000e+02</td>\n",
       "      <td>...</td>\n",
       "      <td>3.340000e+02</td>\n",
       "      <td>4.000000e+00</td>\n",
       "      <td>1.100000e+01</td>\n",
       "      <td>0.0</td>\n",
       "      <td>0.0</td>\n",
       "      <td>0.000000e+00</td>\n",
       "      <td>0.000000e+00</td>\n",
       "      <td>0.000000e+00</td>\n",
       "      <td>0.000000e+00</td>\n",
       "      <td>0.000000e+00</td>\n",
       "    </tr>\n",
       "    <tr>\n",
       "      <th>50%</th>\n",
       "      <td>3.224052e+06</td>\n",
       "      <td>2008.0</td>\n",
       "      <td>6.000000e+00</td>\n",
       "      <td>1.600000e+01</td>\n",
       "      <td>4.000000e+00</td>\n",
       "      <td>1.618000e+03</td>\n",
       "      <td>1.529000e+03</td>\n",
       "      <td>1.737000e+03</td>\n",
       "      <td>1.722000e+03</td>\n",
       "      <td>1.589000e+03</td>\n",
       "      <td>...</td>\n",
       "      <td>5.950000e+02</td>\n",
       "      <td>6.000000e+00</td>\n",
       "      <td>1.600000e+01</td>\n",
       "      <td>0.0</td>\n",
       "      <td>0.0</td>\n",
       "      <td>2.000000e+00</td>\n",
       "      <td>0.000000e+00</td>\n",
       "      <td>2.000000e+00</td>\n",
       "      <td>0.000000e+00</td>\n",
       "      <td>8.000000e+00</td>\n",
       "    </tr>\n",
       "    <tr>\n",
       "      <th>75%</th>\n",
       "      <td>4.921396e+06</td>\n",
       "      <td>2008.0</td>\n",
       "      <td>9.000000e+00</td>\n",
       "      <td>2.300000e+01</td>\n",
       "      <td>6.000000e+00</td>\n",
       "      <td>1.924000e+03</td>\n",
       "      <td>1.830000e+03</td>\n",
       "      <td>2.048000e+03</td>\n",
       "      <td>2.022000e+03</td>\n",
       "      <td>3.676000e+03</td>\n",
       "      <td>...</td>\n",
       "      <td>9.720000e+02</td>\n",
       "      <td>8.000000e+00</td>\n",
       "      <td>2.400000e+01</td>\n",
       "      <td>0.0</td>\n",
       "      <td>0.0</td>\n",
       "      <td>2.100000e+01</td>\n",
       "      <td>0.000000e+00</td>\n",
       "      <td>1.500000e+01</td>\n",
       "      <td>0.000000e+00</td>\n",
       "      <td>3.300000e+01</td>\n",
       "    </tr>\n",
       "    <tr>\n",
       "      <th>max</th>\n",
       "      <td>7.009718e+06</td>\n",
       "      <td>2008.0</td>\n",
       "      <td>1.200000e+01</td>\n",
       "      <td>3.100000e+01</td>\n",
       "      <td>7.000000e+00</td>\n",
       "      <td>2.400000e+03</td>\n",
       "      <td>2.359000e+03</td>\n",
       "      <td>2.400000e+03</td>\n",
       "      <td>2.359000e+03</td>\n",
       "      <td>9.741000e+03</td>\n",
       "      <td>...</td>\n",
       "      <td>4.962000e+03</td>\n",
       "      <td>2.400000e+02</td>\n",
       "      <td>4.220000e+02</td>\n",
       "      <td>0.0</td>\n",
       "      <td>0.0</td>\n",
       "      <td>2.436000e+03</td>\n",
       "      <td>1.352000e+03</td>\n",
       "      <td>1.357000e+03</td>\n",
       "      <td>3.920000e+02</td>\n",
       "      <td>1.316000e+03</td>\n",
       "    </tr>\n",
       "  </tbody>\n",
       "</table>\n",
       "<p>8 rows × 25 columns</p>\n",
       "</div>"
      ],
      "text/plain": [
       "         Unnamed: 0       Year         Month    DayofMonth     DayOfWeek  \\\n",
       "count  1.247486e+06  1247486.0  1.247486e+06  1.247486e+06  1.247486e+06   \n",
       "mean   3.319515e+06     2008.0  6.065399e+00  1.572542e+01  3.980082e+00   \n",
       "std    2.079531e+06        0.0  3.508937e+00  8.793008e+00  1.993270e+00   \n",
       "min    4.000000e+00     2008.0  1.000000e+00  1.000000e+00  1.000000e+00   \n",
       "25%    1.484624e+06     2008.0  3.000000e+00  8.000000e+00  2.000000e+00   \n",
       "50%    3.224052e+06     2008.0  6.000000e+00  1.600000e+01  4.000000e+00   \n",
       "75%    4.921396e+06     2008.0  9.000000e+00  2.300000e+01  6.000000e+00   \n",
       "max    7.009718e+06     2008.0  1.200000e+01  3.100000e+01  7.000000e+00   \n",
       "\n",
       "            DepTime    CRSDepTime       ArrTime    CRSArrTime     FlightNum  \\\n",
       "count  1.247486e+06  1.247486e+06  1.247486e+06  1.247486e+06  1.247486e+06   \n",
       "mean   1.558832e+03  1.487949e+03  1.616749e+03  1.652458e+03  2.276526e+03   \n",
       "std    4.543300e+02  4.211782e+02  5.839416e+02  4.617372e+02  1.997547e+03   \n",
       "min    1.000000e+00  0.000000e+00  1.000000e+00  0.000000e+00  1.000000e+00   \n",
       "25%    1.232000e+03  1.150000e+03  1.326000e+03  1.340000e+03  6.370000e+02   \n",
       "50%    1.618000e+03  1.529000e+03  1.737000e+03  1.722000e+03  1.589000e+03   \n",
       "75%    1.924000e+03  1.830000e+03  2.048000e+03  2.022000e+03  3.676000e+03   \n",
       "max    2.400000e+03  2.359000e+03  2.400000e+03  2.359000e+03  9.741000e+03   \n",
       "\n",
       "       ...      Distance        TaxiIn       TaxiOut  Cancelled   Diverted  \\\n",
       "count  ...  1.247486e+06  1.247486e+06  1.247486e+06  1247486.0  1247486.0   \n",
       "mean   ...  7.415867e+02  7.297232e+00  2.066033e+01        0.0        0.0   \n",
       "std    ...  5.593643e+02  6.033239e+00  1.667983e+01        0.0        0.0   \n",
       "min    ...  1.100000e+01  0.000000e+00  0.000000e+00        0.0        0.0   \n",
       "25%    ...  3.340000e+02  4.000000e+00  1.100000e+01        0.0        0.0   \n",
       "50%    ...  5.950000e+02  6.000000e+00  1.600000e+01        0.0        0.0   \n",
       "75%    ...  9.720000e+02  8.000000e+00  2.400000e+01        0.0        0.0   \n",
       "max    ...  4.962000e+03  2.400000e+02  4.220000e+02        0.0        0.0   \n",
       "\n",
       "       CarrierDelay  WeatherDelay      NASDelay  SecurityDelay  \\\n",
       "count  1.247486e+06  1.247486e+06  1.247486e+06   1.247486e+06   \n",
       "mean   1.917943e+01  3.703355e+00  1.502162e+01   9.013728e-02   \n",
       "std    4.354624e+01  2.149153e+01  3.383308e+01   2.022716e+00   \n",
       "min    0.000000e+00  0.000000e+00  0.000000e+00   0.000000e+00   \n",
       "25%    0.000000e+00  0.000000e+00  0.000000e+00   0.000000e+00   \n",
       "50%    2.000000e+00  0.000000e+00  2.000000e+00   0.000000e+00   \n",
       "75%    2.100000e+01  0.000000e+00  1.500000e+01   0.000000e+00   \n",
       "max    2.436000e+03  1.352000e+03  1.357000e+03   3.920000e+02   \n",
       "\n",
       "       LateAircraftDelay  \n",
       "count       1.247486e+06  \n",
       "mean        2.529649e+01  \n",
       "std         4.205489e+01  \n",
       "min         0.000000e+00  \n",
       "25%         0.000000e+00  \n",
       "50%         8.000000e+00  \n",
       "75%         3.300000e+01  \n",
       "max         1.316000e+03  \n",
       "\n",
       "[8 rows x 25 columns]"
      ]
     },
     "execution_count": 4,
     "metadata": {},
     "output_type": "execute_result"
    }
   ],
   "source": [
    "delayedFlights.describe()"
   ]
  },
  {
   "cell_type": "code",
   "execution_count": 5,
   "id": "654305f0",
   "metadata": {
    "ExecuteTime": {
     "end_time": "2022-07-04T08:01:08.346997Z",
     "start_time": "2022-07-04T08:01:08.335001Z"
    }
   },
   "outputs": [
    {
     "data": {
      "text/plain": [
       "Unnamed: 0             int64\n",
       "Year                   int64\n",
       "Month                  int64\n",
       "DayofMonth             int64\n",
       "DayOfWeek              int64\n",
       "DepTime              float64\n",
       "CRSDepTime             int64\n",
       "ArrTime              float64\n",
       "CRSArrTime             int64\n",
       "UniqueCarrier         object\n",
       "FlightNum              int64\n",
       "TailNum               object\n",
       "ActualElapsedTime    float64\n",
       "CRSElapsedTime       float64\n",
       "AirTime              float64\n",
       "ArrDelay             float64\n",
       "DepDelay             float64\n",
       "Origin                object\n",
       "Dest                  object\n",
       "Distance               int64\n",
       "TaxiIn               float64\n",
       "TaxiOut              float64\n",
       "Cancelled              int64\n",
       "CancellationCode      object\n",
       "Diverted               int64\n",
       "CarrierDelay         float64\n",
       "WeatherDelay         float64\n",
       "NASDelay             float64\n",
       "SecurityDelay        float64\n",
       "LateAircraftDelay    float64\n",
       "dtype: object"
      ]
     },
     "execution_count": 5,
     "metadata": {},
     "output_type": "execute_result"
    }
   ],
   "source": [
    "delayedFlights.dtypes"
   ]
  },
  {
   "cell_type": "code",
   "execution_count": 6,
   "id": "1617c4fd",
   "metadata": {
    "ExecuteTime": {
     "end_time": "2022-07-04T08:01:08.808711Z",
     "start_time": "2022-07-04T08:01:08.349996Z"
    }
   },
   "outputs": [
    {
     "name": "stderr",
     "output_type": "stream",
     "text": [
      "C:\\Users\\Anna\\anaconda3\\lib\\site-packages\\pandas\\core\\frame.py:4906: SettingWithCopyWarning: \n",
      "A value is trying to be set on a copy of a slice from a DataFrame\n",
      "\n",
      "See the caveats in the documentation: https://pandas.pydata.org/pandas-docs/stable/user_guide/indexing.html#returning-a-view-versus-a-copy\n",
      "  return super().drop(\n"
     ]
    },
    {
     "name": "stdout",
     "output_type": "stream",
     "text": [
      "         Year  Month  DayofMonth  DayOfWeek  DepTime  CRSDepTime  ArrTime  \\\n",
      "3        2008      1           3          4   1829.0        1755   1959.0   \n",
      "5        2008      1           3          4   1937.0        1830   2037.0   \n",
      "7        2008      1           3          4   1644.0        1510   1845.0   \n",
      "9        2008      1           3          4   1452.0        1425   1640.0   \n",
      "11       2008      1           3          4   1323.0        1255   1526.0   \n",
      "...       ...    ...         ...        ...      ...         ...      ...   \n",
      "1936751  2008     12          13          6    921.0         830   1112.0   \n",
      "1936752  2008     12          13          6   1552.0        1520   1735.0   \n",
      "1936753  2008     12          13          6   1250.0        1220   1617.0   \n",
      "1936754  2008     12          13          6    657.0         600    904.0   \n",
      "1936755  2008     12          13          6   1007.0         847   1149.0   \n",
      "\n",
      "         CRSArrTime  FlightNum  ActualElapsedTime  ...  Distance  TaxiIn  \\\n",
      "3              1925       3920               90.0  ...       515     3.0   \n",
      "5              1940        509              240.0  ...      1591     3.0   \n",
      "7              1725       1333              121.0  ...       828     6.0   \n",
      "9              1625        675              228.0  ...      1489     7.0   \n",
      "11             1510          4              123.0  ...       838     4.0   \n",
      "...             ...        ...                ...  ...       ...     ...   \n",
      "1936751        1008       1616              111.0  ...       545     8.0   \n",
      "1936752        1718       1620               43.0  ...       151     9.0   \n",
      "1936753        1552       1621              147.0  ...       906     9.0   \n",
      "1936754         749       1631              127.0  ...       481    15.0   \n",
      "1936755        1010       1631              162.0  ...       689     8.0   \n",
      "\n",
      "         TaxiOut  Cancelled  Diverted  CarrierDelay  WeatherDelay  NASDelay  \\\n",
      "3           10.0          0         0           2.0           0.0       0.0   \n",
      "5            7.0          0         0          10.0           0.0       0.0   \n",
      "7            8.0          0         0           8.0           0.0       0.0   \n",
      "9            8.0          0         0           3.0           0.0       0.0   \n",
      "11           9.0          0         0           0.0           0.0       0.0   \n",
      "...          ...        ...       ...           ...           ...       ...   \n",
      "1936751     21.0          0         0          51.0           0.0      13.0   \n",
      "1936752      7.0          0         0           0.0           0.0       0.0   \n",
      "1936753     18.0          0         0           3.0           0.0       0.0   \n",
      "1936754     34.0          0         0           0.0          57.0      18.0   \n",
      "1936755     32.0          0         0           1.0           0.0      19.0   \n",
      "\n",
      "         SecurityDelay  LateAircraftDelay  \n",
      "3                  0.0               32.0  \n",
      "5                  0.0               47.0  \n",
      "7                  0.0               72.0  \n",
      "9                  0.0               12.0  \n",
      "11                 0.0               16.0  \n",
      "...                ...                ...  \n",
      "1936751            0.0                0.0  \n",
      "1936752            0.0               17.0  \n",
      "1936753            0.0               22.0  \n",
      "1936754            0.0                0.0  \n",
      "1936755            0.0               79.0  \n",
      "\n",
      "[1247486 rows x 24 columns]\n"
     ]
    }
   ],
   "source": [
    "#Primer elimino els atributs que no són numèrics, per facilitar l'estudi de les regressions. Si els converteixo en dummies m'apareixen 6000 columnes, pel que no em serà fàcil treure conclusions.\n",
    "\n",
    "numerics = delayedFlights\n",
    "numerics.drop([\"Unnamed: 0\",\"UniqueCarrier\", \"TailNum\", \"Origin\", \"Dest\", \"CancellationCode\"], axis=1, inplace=True)\n",
    "print(numerics)"
   ]
  },
  {
   "cell_type": "markdown",
   "id": "8446fde6",
   "metadata": {},
   "source": [
    "CREACIÓ TRAIN TEST"
   ]
  },
  {
   "cell_type": "code",
   "execution_count": 7,
   "id": "d146fc16",
   "metadata": {
    "ExecuteTime": {
     "end_time": "2022-07-04T08:01:09.158495Z",
     "start_time": "2022-07-04T08:01:08.811710Z"
    }
   },
   "outputs": [],
   "source": [
    "from sklearn.model_selection import train_test_split\n",
    "numerics = numerics.sample(100000, random_state=0)"
   ]
  },
  {
   "cell_type": "code",
   "execution_count": 8,
   "id": "eabef028",
   "metadata": {
    "ExecuteTime": {
     "end_time": "2022-07-04T08:01:09.238500Z",
     "start_time": "2022-07-04T08:01:09.161494Z"
    }
   },
   "outputs": [],
   "source": [
    "# Indico quin vull que sigui el meu target o input o y\n",
    "y = np.array(numerics[\"ArrDelay\"])\n",
    "x = np.array(numerics)\n",
    "\n",
    "#Creo el train test\n",
    "X_train, X_test, y_train, y_test = train_test_split(x, y, test_size = 0.2, random_state=0)"
   ]
  },
  {
   "cell_type": "markdown",
   "id": "d8925923",
   "metadata": {},
   "source": [
    "REGRESSIÓ LINEAL MÚLTIPLE"
   ]
  },
  {
   "cell_type": "code",
   "execution_count": 9,
   "id": "e8678dec",
   "metadata": {
    "ExecuteTime": {
     "end_time": "2022-07-04T08:01:09.333581Z",
     "start_time": "2022-07-04T08:01:09.246493Z"
    }
   },
   "outputs": [],
   "source": [
    "#Primer faré una regressió lineal múltiple, importo la llibreria \n",
    "\n",
    "from sklearn.linear_model import LinearRegression\n"
   ]
  },
  {
   "cell_type": "code",
   "execution_count": 10,
   "id": "8f373839",
   "metadata": {
    "ExecuteTime": {
     "end_time": "2022-07-04T08:01:09.508465Z",
     "start_time": "2022-07-04T08:01:09.336573Z"
    }
   },
   "outputs": [
    {
     "name": "stdout",
     "output_type": "stream",
     "text": [
      "coefficient of determination: 1.0\n",
      "intercept: 8.526512829121202e-14\n",
      "coefficients: [ 0.00000000e+00  2.25514052e-15  4.52383356e-17  3.14819615e-15\n",
      " -8.37004077e-17 -5.11743425e-17  3.12250226e-17  1.33140027e-16\n",
      " -9.71445147e-17  1.74418605e-01 -2.32558140e-01  5.81395349e-02\n",
      "  6.39534884e-01  2.32558140e-01  1.11455983e-16  5.81395349e-02\n",
      "  5.81395349e-02  0.00000000e+00 -2.77555756e-17  1.27906977e-01\n",
      "  1.27906977e-01  1.27906977e-01  1.27906977e-01  1.27906977e-01]\n"
     ]
    }
   ],
   "source": [
    "# Creo el model de regressió\n",
    "model = LinearRegression(n_jobs=-1).fit(X_train, y_train)\n",
    "\n",
    "r_sq = model.score(X_test, y_test)\n",
    "print(f\"coefficient of determination: {r_sq}\")\n",
    "\n",
    "print(f\"intercept: {model.intercept_}\")\n",
    "\n",
    "print(f\"coefficients: {model.coef_}\")"
   ]
  },
  {
   "cell_type": "code",
   "execution_count": 11,
   "id": "b5318478",
   "metadata": {
    "ExecuteTime": {
     "end_time": "2022-07-04T08:01:09.523456Z",
     "start_time": "2022-07-04T08:01:09.512463Z"
    }
   },
   "outputs": [
    {
     "name": "stdout",
     "output_type": "stream",
     "text": [
      "[122.  39.  27. ...  43.  36.  83.]\n"
     ]
    }
   ],
   "source": [
    "prediccioLineal = model.predict(X_test)\n",
    "print(prediccioLineal)"
   ]
  },
  {
   "cell_type": "code",
   "execution_count": 12,
   "id": "6d2ac743",
   "metadata": {
    "ExecuteTime": {
     "end_time": "2022-07-04T08:01:09.571426Z",
     "start_time": "2022-07-04T08:01:09.527454Z"
    }
   },
   "outputs": [
    {
     "data": {
      "text/html": [
       "<div>\n",
       "<style scoped>\n",
       "    .dataframe tbody tr th:only-of-type {\n",
       "        vertical-align: middle;\n",
       "    }\n",
       "\n",
       "    .dataframe tbody tr th {\n",
       "        vertical-align: top;\n",
       "    }\n",
       "\n",
       "    .dataframe thead th {\n",
       "        text-align: right;\n",
       "    }\n",
       "</style>\n",
       "<table border=\"1\" class=\"dataframe\">\n",
       "  <thead>\n",
       "    <tr style=\"text-align: right;\">\n",
       "      <th></th>\n",
       "      <th>Actual</th>\n",
       "      <th>Predicted</th>\n",
       "    </tr>\n",
       "  </thead>\n",
       "  <tbody>\n",
       "    <tr>\n",
       "      <th>0</th>\n",
       "      <td>122.0</td>\n",
       "      <td>122.0</td>\n",
       "    </tr>\n",
       "    <tr>\n",
       "      <th>1</th>\n",
       "      <td>39.0</td>\n",
       "      <td>39.0</td>\n",
       "    </tr>\n",
       "    <tr>\n",
       "      <th>2</th>\n",
       "      <td>27.0</td>\n",
       "      <td>27.0</td>\n",
       "    </tr>\n",
       "    <tr>\n",
       "      <th>3</th>\n",
       "      <td>42.0</td>\n",
       "      <td>42.0</td>\n",
       "    </tr>\n",
       "    <tr>\n",
       "      <th>4</th>\n",
       "      <td>52.0</td>\n",
       "      <td>52.0</td>\n",
       "    </tr>\n",
       "    <tr>\n",
       "      <th>...</th>\n",
       "      <td>...</td>\n",
       "      <td>...</td>\n",
       "    </tr>\n",
       "    <tr>\n",
       "      <th>19995</th>\n",
       "      <td>45.0</td>\n",
       "      <td>45.0</td>\n",
       "    </tr>\n",
       "    <tr>\n",
       "      <th>19996</th>\n",
       "      <td>18.0</td>\n",
       "      <td>18.0</td>\n",
       "    </tr>\n",
       "    <tr>\n",
       "      <th>19997</th>\n",
       "      <td>43.0</td>\n",
       "      <td>43.0</td>\n",
       "    </tr>\n",
       "    <tr>\n",
       "      <th>19998</th>\n",
       "      <td>36.0</td>\n",
       "      <td>36.0</td>\n",
       "    </tr>\n",
       "    <tr>\n",
       "      <th>19999</th>\n",
       "      <td>83.0</td>\n",
       "      <td>83.0</td>\n",
       "    </tr>\n",
       "  </tbody>\n",
       "</table>\n",
       "<p>20000 rows × 2 columns</p>\n",
       "</div>"
      ],
      "text/plain": [
       "       Actual  Predicted\n",
       "0       122.0      122.0\n",
       "1        39.0       39.0\n",
       "2        27.0       27.0\n",
       "3        42.0       42.0\n",
       "4        52.0       52.0\n",
       "...       ...        ...\n",
       "19995    45.0       45.0\n",
       "19996    18.0       18.0\n",
       "19997    43.0       43.0\n",
       "19998    36.0       36.0\n",
       "19999    83.0       83.0\n",
       "\n",
       "[20000 rows x 2 columns]"
      ]
     },
     "execution_count": 12,
     "metadata": {},
     "output_type": "execute_result"
    }
   ],
   "source": [
    "# Comparació X-test amb la predicció\n",
    "pred_lineal = pd.DataFrame({\"Actual\":y_test, \"Predicted\":prediccioLineal})\n",
    "pred_lineal\n",
    "\n",
    "#No entenc perquè em surt igual"
   ]
  },
  {
   "cell_type": "markdown",
   "id": "ba40dfee",
   "metadata": {},
   "source": [
    "REGRESSIÓ POLINOMINAL"
   ]
  },
  {
   "cell_type": "code",
   "execution_count": 13,
   "id": "7e1741be",
   "metadata": {
    "ExecuteTime": {
     "end_time": "2022-07-04T08:01:10.176259Z",
     "start_time": "2022-07-04T08:01:09.576423Z"
    }
   },
   "outputs": [],
   "source": [
    "# Importo les llibreries\n",
    "from sklearn.linear_model import LinearRegression\n",
    "from sklearn.preprocessing import PolynomialFeatures\n",
    "\n",
    "# Els outputs x i inputs y seran els mateixos que l'anterior regressió\n",
    "\n",
    "#Creo la instancia necessària\n",
    "transformer = PolynomialFeatures(degree=2, include_bias=False)\n",
    "X = transformer.fit_transform(x)\n",
    "X.reshape((-1,1))\n",
    "#Creo el train test de nou amb la X correcte\n",
    "X_train, X_test, y_train, y_test = train_test_split(X, y, test_size = 0.2, random_state=0)\n"
   ]
  },
  {
   "cell_type": "code",
   "execution_count": 14,
   "id": "f31cbb4f",
   "metadata": {
    "ExecuteTime": {
     "end_time": "2022-07-04T08:01:12.306149Z",
     "start_time": "2022-07-04T08:01:10.179255Z"
    },
    "scrolled": true
   },
   "outputs": [
    {
     "name": "stdout",
     "output_type": "stream",
     "text": [
      "coefficient of determination: 1.0\n",
      "intercept: 9.741540907270974e-12\n",
      "coefficients: [ 1.22421090e-19  2.03820373e-16  1.42432613e-16  3.27200357e-17\n",
      "  5.40237614e-17 -1.13739584e-17  2.13875819e-17  3.49705493e-18\n",
      " -3.68798145e-18  4.32578851e-08 -5.76771802e-08  1.44192951e-08\n",
      "  1.58612246e-07  5.76771802e-08  1.63107726e-17  1.44192950e-08\n",
      "  1.44192950e-08  2.12774676e-18  1.75505227e-18  3.17224491e-08\n",
      "  3.17224491e-08  3.17224491e-08  3.17224491e-08  3.17224491e-08\n",
      " -2.08708918e-18  6.03934822e-18  6.40965713e-18  3.99508384e-18\n",
      " -3.09336432e-18  2.34448132e-18  2.38651533e-19 -3.05143619e-19\n",
      "  6.77626358e-21  8.68618334e-05 -1.15815778e-04  2.89539445e-05\n",
      "  3.18493389e-04  1.15815778e-04  6.85673171e-19  2.89539445e-05\n",
      "  2.89539445e-05  3.04931861e-20  0.00000000e+00  6.36986778e-05\n",
      "  6.36986778e-05  6.36986778e-05  6.36986778e-05  6.36986778e-05\n",
      "  2.82208518e-17  2.05455733e-17 -1.38575807e-16 -4.37608984e-18\n",
      " -2.53881748e-18 -5.65164702e-18 -9.35471790e-19 -8.49904918e-19\n",
      " -5.38234896e-18  1.11995861e-18 -2.65719983e-17 -9.28677700e-18\n",
      " -3.07133733e-18  1.20582155e-17  1.81504146e-17  3.12244262e-18\n",
      " -4.74338450e-20 -1.62630326e-19 -5.77870620e-18  2.28248299e-18\n",
      "  4.33836131e-18 -1.59581453e-17  5.66076544e-18  2.72553241e-17\n",
      " -1.50784231e-17 -1.42645642e-19 -5.20109993e-18 -2.49149447e-18\n",
      "  1.50888332e-18  1.14142984e-18 -2.53824490e-17  1.27352851e-17\n",
      "  8.50603059e-18 -1.75125964e-17  2.05959469e-17 -1.08409629e-18\n",
      " -1.94103622e-17 -1.44414063e-17 -4.06575815e-20 -6.77626358e-21\n",
      "  4.71785792e-18 -1.39794543e-17 -1.31269096e-18 -8.32183961e-18\n",
      "  1.47599296e-18  1.67586496e-16 -2.88807067e-17 -8.76882918e-18\n",
      " -9.60273311e-18  1.91851639e-18  9.48403600e-18 -3.52015664e-17\n",
      " -2.17893543e-17 -6.98386833e-18  1.42651701e-17  2.76868609e-17\n",
      "  1.43206802e-17 -1.62187754e-17 -1.19628147e-17  1.01643954e-20\n",
      " -2.03287907e-20 -2.16487069e-17 -1.61201723e-17 -2.06184489e-17\n",
      "  3.36960845e-17  3.90262411e-17  1.08843734e-18  1.14974135e-18\n",
      " -4.56339000e-19  9.37665473e-19  8.47032947e-21  3.43683618e-18\n",
      "  2.34151670e-19 -2.77297411e-19 -2.94333361e-18 -1.38320480e-18\n",
      " -1.56701095e-20 -1.16167922e-18  3.82162737e-18 -5.92923063e-21\n",
      "  9.31736242e-21 -2.16586325e-18  1.94993602e-18  2.11610006e-18\n",
      " -7.46268876e-18  2.63109609e-19 -2.13918171e-18 -9.59264813e-20\n",
      "  1.18203448e-18  1.55854062e-19  1.14137690e-19  3.72043340e-18\n",
      "  3.56389113e-19  4.85138121e-19  1.02745097e-18 -1.06768503e-18\n",
      "  7.51709977e-18 -3.39924910e-18  3.81164826e-21  1.27054942e-21\n",
      "  2.16300451e-18 -3.16890907e-18 -3.54398585e-18  8.26756393e-18\n",
      " -5.33990746e-18 -2.70203510e-19  4.62056473e-19  6.35274710e-20\n",
      "  3.89486925e-18 -3.44620649e-18 -3.55383261e-18 -9.24430583e-19\n",
      "  3.81831865e-18  3.47283508e-19  3.43994638e-18  9.45182890e-19\n",
      " -8.47032947e-22  1.05879118e-22  2.79536754e-18 -5.33491790e-19\n",
      "  1.63540886e-18 -3.01124938e-18 -1.82916765e-18 -1.29087821e-18\n",
      " -2.08634803e-19  1.74107622e-18 -2.43746965e-18 -7.82076108e-19\n",
      "  3.00273180e-19  2.07205435e-19  1.33831206e-19  1.01743215e-18\n",
      " -1.90476534e-19 -2.11758237e-22 -4.23516474e-22  1.41510089e-18\n",
      " -1.87167812e-19  5.31544938e-18 -2.21330929e-18 -2.49408851e-18\n",
      " -1.27054942e-20 -3.91223343e-18  3.91572744e-18  2.02276762e-18\n",
      " -8.56456189e-19 -4.01493617e-19 -2.57074499e-19 -4.79281682e-19\n",
      "  4.37098118e-18  0.00000000e+00  0.00000000e+00 -1.03843592e-18\n",
      "  1.53499575e-18  8.44280090e-19  2.52222878e-19  6.30510150e-19\n",
      " -3.88944956e-18  7.21672071e-18 -8.29059967e-19 -5.90084179e-19\n",
      "  1.04241896e-17 -1.04269756e-18  1.48870590e-18 -3.28707679e-18\n",
      "  0.00000000e+00  0.00000000e+00  1.43036402e-18  8.91704588e-18\n",
      " -3.69816570e-18 -1.23817974e-18 -5.66796067e-18 -1.72605595e-17\n",
      "  1.18610619e-17  1.40848013e-17 -1.12414838e-17  7.76199817e-19\n",
      "  1.30676215e-18 -5.37796438e-18  0.00000000e+00  0.00000000e+00\n",
      "  1.13340742e-17 -2.34789882e-18  7.53155227e-18 -4.74958704e-18\n",
      "  3.09541573e-18 -5.61449172e-18 -4.34478933e-18  8.67766726e-18\n",
      "  2.54480461e-18  4.75210133e-18 -5.66165425e-19  0.00000000e+00\n",
      "  0.00000000e+00  2.91338058e-18 -1.28887313e-18 -6.48781246e-18\n",
      "  7.96039939e-18 -7.19541254e-18  1.58271415e-18  1.58652050e-17\n",
      " -1.58686329e-19  8.07144499e-18 -4.10293578e-18  0.00000000e+00\n",
      "  0.00000000e+00 -1.37020285e-17  1.98412596e-17 -1.40121815e-17\n",
      "  1.83866432e-17 -9.22547258e-18 -4.91460427e-18 -8.30939321e-19\n",
      "  7.82879363e-18 -6.20154635e-18  0.00000000e+00  0.00000000e+00\n",
      " -3.28141226e-18  8.38103243e-18 -3.03330770e-18  1.48833878e-17\n",
      " -1.11313364e-18 -8.55503277e-20 -4.73173284e-18  2.50139417e-21\n",
      "  0.00000000e+00  0.00000000e+00 -4.45900643e-18 -1.93054691e-18\n",
      " -1.64935844e-18  5.47258588e-18  3.50878104e-18 -3.10566926e-18\n",
      " -1.69357786e-19  0.00000000e+00  0.00000000e+00  1.03092504e-17\n",
      "  1.21893057e-17 -2.90364652e-18 -1.50653308e-17  3.54804772e-18\n",
      " -2.61318598e-18  0.00000000e+00  0.00000000e+00 -1.16946460e-17\n",
      " -2.05857844e-18  5.65819994e-18  5.86578763e-18 -1.92041105e-18\n",
      "  0.00000000e+00  0.00000000e+00  0.00000000e+00  0.00000000e+00\n",
      "  0.00000000e+00  0.00000000e+00  0.00000000e+00  0.00000000e+00\n",
      "  0.00000000e+00  0.00000000e+00  0.00000000e+00  0.00000000e+00\n",
      "  0.00000000e+00  5.81119196e-18 -1.70146478e-17  1.10809448e-17\n",
      " -2.27282661e-17  8.94398839e-18 -3.83768989e-17 -1.99661479e-17\n",
      "  1.08454145e-16 -1.33826426e-17  4.35599597e-18 -2.20583961e-17\n",
      "  1.24413961e-17 -2.47035736e-17 -2.05806277e-17  3.44470433e-18]\n"
     ]
    }
   ],
   "source": [
    "# Creo el model de regressió i l'aplico\n",
    "model = LinearRegression(n_jobs=-1).fit(X_train, y_train)\n",
    "\n",
    "r_sq = model.score(X_test, y_test)\n",
    "print(f\"coefficient of determination: {r_sq}\")\n",
    "\n",
    "print(f\"intercept: {model.intercept_}\")\n",
    "\n",
    "print(f\"coefficients: {model.coef_}\")"
   ]
  },
  {
   "cell_type": "code",
   "execution_count": 15,
   "id": "fa88033b",
   "metadata": {
    "ExecuteTime": {
     "end_time": "2022-07-04T08:01:12.338130Z",
     "start_time": "2022-07-04T08:01:12.309147Z"
    }
   },
   "outputs": [
    {
     "name": "stdout",
     "output_type": "stream",
     "text": [
      "predicted response:\n",
      "[122.  39.  27. ...  43.  36.  83.]\n"
     ]
    }
   ],
   "source": [
    "prediccioPolinominal = model.predict(X_test)\n",
    "print(f\"predicted response:\\n{prediccioPolinominal}\")"
   ]
  },
  {
   "cell_type": "code",
   "execution_count": 16,
   "id": "061d1c7b",
   "metadata": {
    "ExecuteTime": {
     "end_time": "2022-07-04T08:01:12.369291Z",
     "start_time": "2022-07-04T08:01:12.342128Z"
    }
   },
   "outputs": [
    {
     "data": {
      "text/html": [
       "<div>\n",
       "<style scoped>\n",
       "    .dataframe tbody tr th:only-of-type {\n",
       "        vertical-align: middle;\n",
       "    }\n",
       "\n",
       "    .dataframe tbody tr th {\n",
       "        vertical-align: top;\n",
       "    }\n",
       "\n",
       "    .dataframe thead th {\n",
       "        text-align: right;\n",
       "    }\n",
       "</style>\n",
       "<table border=\"1\" class=\"dataframe\">\n",
       "  <thead>\n",
       "    <tr style=\"text-align: right;\">\n",
       "      <th></th>\n",
       "      <th>Actual</th>\n",
       "      <th>Predicted</th>\n",
       "    </tr>\n",
       "  </thead>\n",
       "  <tbody>\n",
       "    <tr>\n",
       "      <th>0</th>\n",
       "      <td>122.0</td>\n",
       "      <td>122.0</td>\n",
       "    </tr>\n",
       "    <tr>\n",
       "      <th>1</th>\n",
       "      <td>39.0</td>\n",
       "      <td>39.0</td>\n",
       "    </tr>\n",
       "    <tr>\n",
       "      <th>2</th>\n",
       "      <td>27.0</td>\n",
       "      <td>27.0</td>\n",
       "    </tr>\n",
       "    <tr>\n",
       "      <th>3</th>\n",
       "      <td>42.0</td>\n",
       "      <td>42.0</td>\n",
       "    </tr>\n",
       "    <tr>\n",
       "      <th>4</th>\n",
       "      <td>52.0</td>\n",
       "      <td>52.0</td>\n",
       "    </tr>\n",
       "    <tr>\n",
       "      <th>...</th>\n",
       "      <td>...</td>\n",
       "      <td>...</td>\n",
       "    </tr>\n",
       "    <tr>\n",
       "      <th>19995</th>\n",
       "      <td>45.0</td>\n",
       "      <td>45.0</td>\n",
       "    </tr>\n",
       "    <tr>\n",
       "      <th>19996</th>\n",
       "      <td>18.0</td>\n",
       "      <td>18.0</td>\n",
       "    </tr>\n",
       "    <tr>\n",
       "      <th>19997</th>\n",
       "      <td>43.0</td>\n",
       "      <td>43.0</td>\n",
       "    </tr>\n",
       "    <tr>\n",
       "      <th>19998</th>\n",
       "      <td>36.0</td>\n",
       "      <td>36.0</td>\n",
       "    </tr>\n",
       "    <tr>\n",
       "      <th>19999</th>\n",
       "      <td>83.0</td>\n",
       "      <td>83.0</td>\n",
       "    </tr>\n",
       "  </tbody>\n",
       "</table>\n",
       "<p>20000 rows × 2 columns</p>\n",
       "</div>"
      ],
      "text/plain": [
       "       Actual  Predicted\n",
       "0       122.0      122.0\n",
       "1        39.0       39.0\n",
       "2        27.0       27.0\n",
       "3        42.0       42.0\n",
       "4        52.0       52.0\n",
       "...       ...        ...\n",
       "19995    45.0       45.0\n",
       "19996    18.0       18.0\n",
       "19997    43.0       43.0\n",
       "19998    36.0       36.0\n",
       "19999    83.0       83.0\n",
       "\n",
       "[20000 rows x 2 columns]"
      ]
     },
     "execution_count": 16,
     "metadata": {},
     "output_type": "execute_result"
    }
   ],
   "source": [
    "# Comparació X-test amb la predicció\n",
    "pred_polinominal = pd.DataFrame({\"Actual\":y_test, \"Predicted\":prediccioPolinominal})\n",
    "pred_polinominal\n",
    "\n",
    "#No entenc perquè em surt igual"
   ]
  },
  {
   "cell_type": "markdown",
   "id": "86d9e084",
   "metadata": {},
   "source": [
    "DECISION TREE REGRESSOR"
   ]
  },
  {
   "cell_type": "code",
   "execution_count": 17,
   "id": "414b7db5",
   "metadata": {
    "ExecuteTime": {
     "end_time": "2022-07-04T08:01:29.337607Z",
     "start_time": "2022-07-04T08:01:12.373445Z"
    }
   },
   "outputs": [
    {
     "data": {
      "text/html": [
       "<style>#sk-container-id-1 {color: black;background-color: white;}#sk-container-id-1 pre{padding: 0;}#sk-container-id-1 div.sk-toggleable {background-color: white;}#sk-container-id-1 label.sk-toggleable__label {cursor: pointer;display: block;width: 100%;margin-bottom: 0;padding: 0.3em;box-sizing: border-box;text-align: center;}#sk-container-id-1 label.sk-toggleable__label-arrow:before {content: \"▸\";float: left;margin-right: 0.25em;color: #696969;}#sk-container-id-1 label.sk-toggleable__label-arrow:hover:before {color: black;}#sk-container-id-1 div.sk-estimator:hover label.sk-toggleable__label-arrow:before {color: black;}#sk-container-id-1 div.sk-toggleable__content {max-height: 0;max-width: 0;overflow: hidden;text-align: left;background-color: #f0f8ff;}#sk-container-id-1 div.sk-toggleable__content pre {margin: 0.2em;color: black;border-radius: 0.25em;background-color: #f0f8ff;}#sk-container-id-1 input.sk-toggleable__control:checked~div.sk-toggleable__content {max-height: 200px;max-width: 100%;overflow: auto;}#sk-container-id-1 input.sk-toggleable__control:checked~label.sk-toggleable__label-arrow:before {content: \"▾\";}#sk-container-id-1 div.sk-estimator input.sk-toggleable__control:checked~label.sk-toggleable__label {background-color: #d4ebff;}#sk-container-id-1 div.sk-label input.sk-toggleable__control:checked~label.sk-toggleable__label {background-color: #d4ebff;}#sk-container-id-1 input.sk-hidden--visually {border: 0;clip: rect(1px 1px 1px 1px);clip: rect(1px, 1px, 1px, 1px);height: 1px;margin: -1px;overflow: hidden;padding: 0;position: absolute;width: 1px;}#sk-container-id-1 div.sk-estimator {font-family: monospace;background-color: #f0f8ff;border: 1px dotted black;border-radius: 0.25em;box-sizing: border-box;margin-bottom: 0.5em;}#sk-container-id-1 div.sk-estimator:hover {background-color: #d4ebff;}#sk-container-id-1 div.sk-parallel-item::after {content: \"\";width: 100%;border-bottom: 1px solid gray;flex-grow: 1;}#sk-container-id-1 div.sk-label:hover label.sk-toggleable__label {background-color: #d4ebff;}#sk-container-id-1 div.sk-serial::before {content: \"\";position: absolute;border-left: 1px solid gray;box-sizing: border-box;top: 0;bottom: 0;left: 50%;z-index: 0;}#sk-container-id-1 div.sk-serial {display: flex;flex-direction: column;align-items: center;background-color: white;padding-right: 0.2em;padding-left: 0.2em;position: relative;}#sk-container-id-1 div.sk-item {position: relative;z-index: 1;}#sk-container-id-1 div.sk-parallel {display: flex;align-items: stretch;justify-content: center;background-color: white;position: relative;}#sk-container-id-1 div.sk-item::before, #sk-container-id-1 div.sk-parallel-item::before {content: \"\";position: absolute;border-left: 1px solid gray;box-sizing: border-box;top: 0;bottom: 0;left: 50%;z-index: -1;}#sk-container-id-1 div.sk-parallel-item {display: flex;flex-direction: column;z-index: 1;position: relative;background-color: white;}#sk-container-id-1 div.sk-parallel-item:first-child::after {align-self: flex-end;width: 50%;}#sk-container-id-1 div.sk-parallel-item:last-child::after {align-self: flex-start;width: 50%;}#sk-container-id-1 div.sk-parallel-item:only-child::after {width: 0;}#sk-container-id-1 div.sk-dashed-wrapped {border: 1px dashed gray;margin: 0 0.4em 0.5em 0.4em;box-sizing: border-box;padding-bottom: 0.4em;background-color: white;}#sk-container-id-1 div.sk-label label {font-family: monospace;font-weight: bold;display: inline-block;line-height: 1.2em;}#sk-container-id-1 div.sk-label-container {text-align: center;}#sk-container-id-1 div.sk-container {/* jupyter's `normalize.less` sets `[hidden] { display: none; }` but bootstrap.min.css set `[hidden] { display: none !important; }` so we also need the `!important` here to be able to override the default hidden behavior on the sphinx rendered scikit-learn.org. See: https://github.com/scikit-learn/scikit-learn/issues/21755 */display: inline-block !important;position: relative;}#sk-container-id-1 div.sk-text-repr-fallback {display: none;}</style><div id=\"sk-container-id-1\" class=\"sk-top-container\"><div class=\"sk-text-repr-fallback\"><pre>DecisionTreeRegressor(random_state=0)</pre><b>In a Jupyter environment, please rerun this cell to show the HTML representation or trust the notebook. <br />On GitHub, the HTML representation is unable to render, please try loading this page with nbviewer.org.</b></div><div class=\"sk-container\" hidden><div class=\"sk-item\"><div class=\"sk-estimator sk-toggleable\"><input class=\"sk-toggleable__control sk-hidden--visually\" id=\"sk-estimator-id-1\" type=\"checkbox\" checked><label for=\"sk-estimator-id-1\" class=\"sk-toggleable__label sk-toggleable__label-arrow\">DecisionTreeRegressor</label><div class=\"sk-toggleable__content\"><pre>DecisionTreeRegressor(random_state=0)</pre></div></div></div></div></div>"
      ],
      "text/plain": [
       "DecisionTreeRegressor(random_state=0)"
      ]
     },
     "execution_count": 17,
     "metadata": {},
     "output_type": "execute_result"
    }
   ],
   "source": [
    "# Importo les llibreries\n",
    "from sklearn.tree import DecisionTreeRegressor\n",
    "\n",
    "# Els outputs x i inputs y seran els mateixos que l'anterior regressió\n",
    "\n",
    "#Creo la instancia necessària\n",
    "regressor = DecisionTreeRegressor(random_state=0)\n",
    "regressor.fit(X_train,y_train)"
   ]
  },
  {
   "cell_type": "code",
   "execution_count": 18,
   "id": "b2c7d71b",
   "metadata": {
    "ExecuteTime": {
     "end_time": "2022-07-04T08:01:29.399884Z",
     "start_time": "2022-07-04T08:01:29.340606Z"
    }
   },
   "outputs": [
    {
     "name": "stdout",
     "output_type": "stream",
     "text": [
      "predicted response:\n",
      "[122.  39.  27. ...  43.  36.  83.]\n"
     ]
    }
   ],
   "source": [
    "prediccioTree = regressor.predict(X_test)\n",
    "print(f\"predicted response:\\n{prediccioTree}\")"
   ]
  },
  {
   "cell_type": "code",
   "execution_count": 19,
   "id": "0d767280",
   "metadata": {
    "ExecuteTime": {
     "end_time": "2022-07-04T08:01:29.430340Z",
     "start_time": "2022-07-04T08:01:29.403881Z"
    }
   },
   "outputs": [
    {
     "data": {
      "text/html": [
       "<div>\n",
       "<style scoped>\n",
       "    .dataframe tbody tr th:only-of-type {\n",
       "        vertical-align: middle;\n",
       "    }\n",
       "\n",
       "    .dataframe tbody tr th {\n",
       "        vertical-align: top;\n",
       "    }\n",
       "\n",
       "    .dataframe thead th {\n",
       "        text-align: right;\n",
       "    }\n",
       "</style>\n",
       "<table border=\"1\" class=\"dataframe\">\n",
       "  <thead>\n",
       "    <tr style=\"text-align: right;\">\n",
       "      <th></th>\n",
       "      <th>Actual</th>\n",
       "      <th>Predicted</th>\n",
       "    </tr>\n",
       "  </thead>\n",
       "  <tbody>\n",
       "    <tr>\n",
       "      <th>0</th>\n",
       "      <td>122.0</td>\n",
       "      <td>122.0</td>\n",
       "    </tr>\n",
       "    <tr>\n",
       "      <th>1</th>\n",
       "      <td>39.0</td>\n",
       "      <td>39.0</td>\n",
       "    </tr>\n",
       "    <tr>\n",
       "      <th>2</th>\n",
       "      <td>27.0</td>\n",
       "      <td>27.0</td>\n",
       "    </tr>\n",
       "    <tr>\n",
       "      <th>3</th>\n",
       "      <td>42.0</td>\n",
       "      <td>42.0</td>\n",
       "    </tr>\n",
       "    <tr>\n",
       "      <th>4</th>\n",
       "      <td>52.0</td>\n",
       "      <td>52.0</td>\n",
       "    </tr>\n",
       "    <tr>\n",
       "      <th>...</th>\n",
       "      <td>...</td>\n",
       "      <td>...</td>\n",
       "    </tr>\n",
       "    <tr>\n",
       "      <th>19995</th>\n",
       "      <td>45.0</td>\n",
       "      <td>45.0</td>\n",
       "    </tr>\n",
       "    <tr>\n",
       "      <th>19996</th>\n",
       "      <td>18.0</td>\n",
       "      <td>18.0</td>\n",
       "    </tr>\n",
       "    <tr>\n",
       "      <th>19997</th>\n",
       "      <td>43.0</td>\n",
       "      <td>43.0</td>\n",
       "    </tr>\n",
       "    <tr>\n",
       "      <th>19998</th>\n",
       "      <td>36.0</td>\n",
       "      <td>36.0</td>\n",
       "    </tr>\n",
       "    <tr>\n",
       "      <th>19999</th>\n",
       "      <td>83.0</td>\n",
       "      <td>83.0</td>\n",
       "    </tr>\n",
       "  </tbody>\n",
       "</table>\n",
       "<p>20000 rows × 2 columns</p>\n",
       "</div>"
      ],
      "text/plain": [
       "       Actual  Predicted\n",
       "0       122.0      122.0\n",
       "1        39.0       39.0\n",
       "2        27.0       27.0\n",
       "3        42.0       42.0\n",
       "4        52.0       52.0\n",
       "...       ...        ...\n",
       "19995    45.0       45.0\n",
       "19996    18.0       18.0\n",
       "19997    43.0       43.0\n",
       "19998    36.0       36.0\n",
       "19999    83.0       83.0\n",
       "\n",
       "[20000 rows x 2 columns]"
      ]
     },
     "execution_count": 19,
     "metadata": {},
     "output_type": "execute_result"
    }
   ],
   "source": [
    "# Comparació X-test amb la predicció\n",
    "pred_Tree = pd.DataFrame({\"Actual\":y_test, \"Predicted\":prediccioTree})\n",
    "pred_Tree\n",
    "\n",
    "#No entenc perquè em surt igual"
   ]
  },
  {
   "cell_type": "markdown",
   "id": "7fe57381",
   "metadata": {},
   "source": [
    "### Exercici 2\n",
    "Compara’ls en base al MSE i al R2 .\n"
   ]
  },
  {
   "cell_type": "code",
   "execution_count": 20,
   "id": "9608480c",
   "metadata": {
    "ExecuteTime": {
     "end_time": "2022-07-04T08:01:30.168444Z",
     "start_time": "2022-07-04T08:01:29.433337Z"
    }
   },
   "outputs": [],
   "source": [
    "import statsmodels.api as sm\n",
    "from sklearn import metrics"
   ]
  },
  {
   "cell_type": "code",
   "execution_count": 21,
   "id": "b56d1ae9",
   "metadata": {
    "ExecuteTime": {
     "end_time": "2022-07-04T08:01:30.183735Z",
     "start_time": "2022-07-04T08:01:30.171578Z"
    }
   },
   "outputs": [
    {
     "name": "stdout",
     "output_type": "stream",
     "text": [
      "REGRESSIÓ LINEAL\n",
      "Mean Absolute Error: 1.7859509426898511e-13\n",
      "Mean Squared Error: 4.907812483092654e-26\n",
      "Root Mean Squared Error: 2.2153583193453502e-13\n"
     ]
    }
   ],
   "source": [
    "print(\"REGRESSIÓ LINEAL\")\n",
    "print('Mean Absolute Error:', metrics.mean_absolute_error(y_test, prediccioLineal))\n",
    "print('Mean Squared Error:', metrics.mean_squared_error(y_test, prediccioLineal))\n",
    "print('Root Mean Squared Error:', np.sqrt(metrics.mean_squared_error(y_test, prediccioLineal)))"
   ]
  },
  {
   "cell_type": "code",
   "execution_count": 22,
   "id": "839ec9b2",
   "metadata": {
    "ExecuteTime": {
     "end_time": "2022-07-04T08:01:30.214276Z",
     "start_time": "2022-07-04T08:01:30.186733Z"
    }
   },
   "outputs": [
    {
     "name": "stdout",
     "output_type": "stream",
     "text": [
      "REGRESSIÓ POLINOMINAL\n",
      "Mean Absolute Error: 3.4243665680833146e-13\n",
      "Mean Squared Error: 2.746917523940014e-25\n",
      "Root Mean Squared Error: 5.241104391194678e-13\n"
     ]
    }
   ],
   "source": [
    "print(\"REGRESSIÓ POLINOMINAL\")\n",
    "print('Mean Absolute Error:', metrics.mean_absolute_error(y_test, prediccioPolinominal))\n",
    "print('Mean Squared Error:', metrics.mean_squared_error(y_test, prediccioPolinominal))\n",
    "print('Root Mean Squared Error:', np.sqrt(metrics.mean_squared_error(y_test, prediccioPolinominal)))"
   ]
  },
  {
   "cell_type": "code",
   "execution_count": 23,
   "id": "fbf84b33",
   "metadata": {
    "ExecuteTime": {
     "end_time": "2022-07-04T08:01:30.229627Z",
     "start_time": "2022-07-04T08:01:30.217274Z"
    }
   },
   "outputs": [
    {
     "name": "stdout",
     "output_type": "stream",
     "text": [
      "DECISION TREE REGRESSOR\n",
      "Mean Absolute Error: 0.01635\n",
      "Mean Squared Error: 0.41935\n",
      "Root Mean Squared Error: 0.6475723897758459\n"
     ]
    }
   ],
   "source": [
    "print(\"DECISION TREE REGRESSOR\")\n",
    "print('Mean Absolute Error:', metrics.mean_absolute_error(y_test, prediccioTree))\n",
    "print('Mean Squared Error:', metrics.mean_squared_error(y_test, prediccioTree))\n",
    "print('Root Mean Squared Error:', np.sqrt(metrics.mean_squared_error(y_test, prediccioTree)))"
   ]
  },
  {
   "cell_type": "markdown",
   "id": "e2e05369",
   "metadata": {},
   "source": [
    "### Exercici 3\n",
    "Entrena’ls utilitzant els diferents paràmetres que admeten."
   ]
  },
  {
   "cell_type": "markdown",
   "id": "23b7a7d9",
   "metadata": {},
   "source": [
    "CANVIEM PARÀMETRES DE LA REGRESSIÓ LINEAL"
   ]
  },
  {
   "cell_type": "code",
   "execution_count": 24,
   "id": "7ac6bfcf",
   "metadata": {
    "ExecuteTime": {
     "end_time": "2022-07-04T08:01:32.531374Z",
     "start_time": "2022-07-04T08:01:30.232629Z"
    }
   },
   "outputs": [
    {
     "name": "stderr",
     "output_type": "stream",
     "text": [
      "C:\\Users\\Anna\\anaconda3\\lib\\site-packages\\sklearn\\linear_model\\_base.py:141: FutureWarning: 'normalize' was deprecated in version 1.0 and will be removed in 1.2.\n",
      "If you wish to scale the data, use Pipeline with a StandardScaler in a preprocessing stage. To reproduce the previous behavior:\n",
      "\n",
      "from sklearn.pipeline import make_pipeline\n",
      "\n",
      "model = make_pipeline(StandardScaler(with_mean=False), LinearRegression())\n",
      "\n",
      "If you wish to pass a sample_weight parameter, you need to pass it as a fit parameter to each step of the pipeline as follows:\n",
      "\n",
      "kwargs = {s[0] + '__sample_weight': sample_weight for s in model.steps}\n",
      "model.fit(X, y, **kwargs)\n",
      "\n",
      "\n",
      "  warnings.warn(\n"
     ]
    },
    {
     "name": "stdout",
     "output_type": "stream",
     "text": [
      "coefficient of determination: 1.0\n",
      "intercept: 0.0\n",
      "coefficients: [-4.84628442e-12 -2.48677398e-08 -2.04300821e-07 -1.19744257e-07\n",
      "  1.42077538e-07 -1.71605380e-07 -1.85155991e-07  1.47736012e-10\n",
      " -2.31554081e-07 -2.14349746e-07  1.49193218e-07 -5.25919096e-08\n",
      "  2.20749683e-07 -2.74822614e-07  1.17568035e-07 -9.41946106e-09\n",
      "  4.29526142e-08 -7.08787719e-08 -2.68606276e-09  3.13684329e-08\n",
      "  1.71670345e-08  2.55645243e-08  3.26464843e-08  3.30702208e-08\n",
      "  2.41393802e-15  1.23842642e-11  1.01743443e-10  5.96335962e-11\n",
      " -7.07557453e-11  8.54608426e-11  9.22091605e-11 -7.35736473e-14\n",
      "  1.15315777e-10  8.68244811e-05 -1.15745099e-04  2.89206761e-05\n",
      "  3.18574500e-04  1.15745161e-04 -5.85498175e-11  2.89206546e-05\n",
      "  2.89206285e-05  4.68126480e-10 -2.19455400e-09  6.36883181e-05\n",
      "  6.36883252e-05  6.36883210e-05  6.36883175e-05  6.36883173e-05\n",
      "  7.28355358e-16  4.49678964e-16  6.30406246e-16  1.85881943e-17\n",
      "  1.79464940e-17  9.05300708e-18  4.14002408e-17  5.92506164e-19\n",
      "  1.38699192e-10 -5.69000202e-11 -8.17995070e-11 -4.36870553e-11\n",
      "  5.69000691e-11  2.35197359e-17 -8.17990497e-11 -8.17992213e-11\n",
      "  3.50041170e-10 -2.91553600e-10 -1.32132715e-11 -1.32132260e-11\n",
      " -1.32131972e-11 -1.32128794e-11 -1.32131207e-11 -1.01499353e-17\n",
      " -1.31957096e-15  1.09192142e-17 -4.54467124e-17  2.00463847e-17\n",
      "  1.38258276e-17  4.48940697e-18  1.87193843e-10 -2.61276527e-10\n",
      "  7.40822240e-11 -3.73267487e-10  2.61276281e-10  6.77896184e-17\n",
      "  7.40822339e-11  7.40821544e-11 -1.10928571e-10  2.26747870e-11\n",
      "  1.11991101e-10  1.11991145e-10  1.11991226e-10  1.11991189e-10\n",
      "  1.11991087e-10 -2.34380393e-15  8.91995028e-17 -3.53917480e-17\n",
      " -3.53097513e-17 -1.40590429e-17  1.17515895e-17  4.90264964e-11\n",
      " -2.97813764e-11 -1.92460535e-11 -8.58231367e-11  2.97807562e-11\n",
      "  1.52860918e-16 -1.92460178e-11 -1.92454928e-11  1.03605603e-10\n",
      "  1.13426630e-11  5.60420425e-11  5.60422612e-11  5.60422184e-11\n",
      "  5.60426605e-11  5.60421307e-11  9.01878331e-19 -7.14895807e-19\n",
      " -1.27838448e-18 -1.35991140e-18  1.11278953e-19  1.20256913e-08\n",
      "  1.85673336e-08 -3.05930249e-08  1.51259467e-08 -1.85673336e-08\n",
      "  3.01861367e-18 -3.05930249e-08 -3.05930249e-08 -1.22083109e-11\n",
      "  1.38996097e-11  3.44138685e-09  3.44138685e-09  3.44138685e-09\n",
      "  3.44138671e-09  3.44138685e-09  2.54914565e-18 -1.68136040e-19\n",
      "  1.15143541e-19 -3.00114361e-19 -2.05464368e-08  3.35166432e-08\n",
      " -1.29702063e-08  3.42254682e-08 -3.35166432e-08 -5.51693734e-18\n",
      " -1.29702063e-08 -1.29702063e-08  1.00287797e-11 -3.35850167e-11\n",
      " -7.08825007e-10 -7.08825038e-10 -7.08825027e-10 -7.08824890e-10\n",
      " -7.08825008e-10 -2.25946039e-19  5.21984054e-19 -1.95241094e-19\n",
      "  1.85870949e-08 -8.12833412e-09 -1.04587608e-08 -5.95469704e-09\n",
      "  8.12833412e-09 -1.30866590e-18 -1.04587608e-08 -1.04587608e-08\n",
      "  7.78148622e-12 -4.18300832e-13 -2.17363708e-09 -2.17363708e-09\n",
      " -2.17363708e-09 -2.17363708e-09 -2.17363708e-09  4.41092407e-19\n",
      "  2.63003730e-19  2.81308094e-08  3.52677583e-08 -6.33985677e-08\n",
      "  3.07299661e-08 -3.52677583e-08  7.41789104e-19 -6.33985677e-08\n",
      " -6.33985677e-08 -9.32932560e-13 -2.05205568e-12  4.53779221e-09\n",
      "  4.53779224e-09  4.53779222e-09  4.53779218e-09  4.53779221e-09\n",
      "  4.34104385e-21  1.03338350e-08  3.17994449e-08 -4.21332799e-08\n",
      "  4.05394047e-08 -3.17994449e-08 -5.63276910e-19 -4.21332799e-08\n",
      " -4.21332799e-08  0.00000000e+00  0.00000000e+00 -8.73995980e-09\n",
      " -8.73995980e-09 -8.73995979e-09 -8.73995981e-09 -8.73995980e-09\n",
      "  3.42989000e-09 -2.25063584e-09  2.73781279e-09 -2.17858523e-09\n",
      "  1.13434994e-09  3.11887719e-08 -8.89631876e-10 -9.32566838e-10\n",
      "  0.00000000e+00  0.00000000e+00 -3.13095991e-10  1.79645619e-10\n",
      " -1.67522196e-10 -1.26729713e-11 -3.35898660e-10 -2.18565149e-09\n",
      "  3.86733656e-09 -2.37586021e-09  3.52219700e-09 -3.35652587e-08\n",
      "  6.15424301e-10  7.60550625e-10  0.00000000e+00  0.00000000e+00\n",
      " -5.97316461e-11 -5.04627588e-10 -7.43891254e-10 -4.36179224e-10\n",
      "  1.43697042e-10 -5.59875214e-09  2.04592364e-09 -1.90194499e-09\n",
      "  2.37648680e-09 -4.31814751e-09 -4.42033846e-09  0.00000000e+00\n",
      "  0.00000000e+00  1.26747459e-10  7.89017981e-11  6.65333071e-10\n",
      "  2.02771825e-10 -5.38785163e-11 -4.15807123e-10  2.46920373e-09\n",
      " -2.95641756e-08 -8.52561912e-10 -7.76932002e-10  0.00000000e+00\n",
      "  0.00000000e+00  3.68590904e-11 -1.36957073e-10 -7.46981759e-10\n",
      " -9.10872421e-11  6.77211639e-11 -1.33654586e-09  3.35652587e-08\n",
      "  1.34996711e-09  1.20484102e-09  0.00000000e+00  0.00000000e+00\n",
      " -8.82717328e-10 -4.37821406e-10 -1.98557687e-10 -5.06269744e-10\n",
      " -1.08614608e-09 -1.91852963e-18  2.37648684e-09  2.37648678e-09\n",
      "  0.00000000e+00  0.00000000e+00 -4.00108310e-09 -4.00108311e-09\n",
      " -4.00108309e-09 -4.00108312e-09 -4.00108311e-09  1.28060454e-09\n",
      "  2.45901806e-09  0.00000000e+00  0.00000000e+00 -2.26679189e-10\n",
      " -2.74524818e-10  3.11906653e-10 -1.50654856e-10 -4.07305178e-10\n",
      "  1.17841364e-09  0.00000000e+00  0.00000000e+00 -1.57183022e-10\n",
      " -2.05028701e-10  3.81402779e-10 -8.11583573e-11 -3.37809107e-10\n",
      "  0.00000000e+00  0.00000000e+00  0.00000000e+00  0.00000000e+00\n",
      "  0.00000000e+00  0.00000000e+00  0.00000000e+00  0.00000000e+00\n",
      "  0.00000000e+00  0.00000000e+00  0.00000000e+00  0.00000000e+00\n",
      "  0.00000000e+00  1.29007492e-10 -1.30647781e-11  3.57696252e-10\n",
      "  9.51391937e-12  4.30581667e-10 -1.42072265e-10  8.66164939e-11\n",
      " -2.61564835e-10  1.59501890e-10  2.28688713e-10  1.09195085e-10\n",
      "  5.30262915e-10 -1.19493701e-10  1.82080375e-10  3.01574154e-10]\n"
     ]
    }
   ],
   "source": [
    "# Creo el model de regressió\n",
    "model = LinearRegression(fit_intercept = False, normalize=True, n_jobs=-1).fit(X_train, y_train)\n",
    "\n",
    "r_sq = model.score(X_test, y_test)\n",
    "print(f\"coefficient of determination: {r_sq}\")\n",
    "\n",
    "print(f\"intercept: {model.intercept_}\")\n",
    "\n",
    "print(f\"coefficients: {model.coef_}\")"
   ]
  },
  {
   "cell_type": "code",
   "execution_count": 25,
   "id": "3f347e64",
   "metadata": {
    "ExecuteTime": {
     "end_time": "2022-07-04T08:01:32.563354Z",
     "start_time": "2022-07-04T08:01:32.535372Z"
    }
   },
   "outputs": [
    {
     "name": "stdout",
     "output_type": "stream",
     "text": [
      "[122.  39.  27. ...  43.  36.  83.]\n"
     ]
    }
   ],
   "source": [
    "prediccioLineal = model.predict(X_test)\n",
    "print(prediccioLineal)"
   ]
  },
  {
   "cell_type": "code",
   "execution_count": 26,
   "id": "c003b794",
   "metadata": {
    "ExecuteTime": {
     "end_time": "2022-07-04T08:01:32.610323Z",
     "start_time": "2022-07-04T08:01:32.567353Z"
    }
   },
   "outputs": [
    {
     "data": {
      "text/html": [
       "<div>\n",
       "<style scoped>\n",
       "    .dataframe tbody tr th:only-of-type {\n",
       "        vertical-align: middle;\n",
       "    }\n",
       "\n",
       "    .dataframe tbody tr th {\n",
       "        vertical-align: top;\n",
       "    }\n",
       "\n",
       "    .dataframe thead th {\n",
       "        text-align: right;\n",
       "    }\n",
       "</style>\n",
       "<table border=\"1\" class=\"dataframe\">\n",
       "  <thead>\n",
       "    <tr style=\"text-align: right;\">\n",
       "      <th></th>\n",
       "      <th>Actual</th>\n",
       "      <th>Predicted</th>\n",
       "    </tr>\n",
       "  </thead>\n",
       "  <tbody>\n",
       "    <tr>\n",
       "      <th>0</th>\n",
       "      <td>122.0</td>\n",
       "      <td>122.0</td>\n",
       "    </tr>\n",
       "    <tr>\n",
       "      <th>1</th>\n",
       "      <td>39.0</td>\n",
       "      <td>39.0</td>\n",
       "    </tr>\n",
       "    <tr>\n",
       "      <th>2</th>\n",
       "      <td>27.0</td>\n",
       "      <td>27.0</td>\n",
       "    </tr>\n",
       "    <tr>\n",
       "      <th>3</th>\n",
       "      <td>42.0</td>\n",
       "      <td>42.0</td>\n",
       "    </tr>\n",
       "    <tr>\n",
       "      <th>4</th>\n",
       "      <td>52.0</td>\n",
       "      <td>52.0</td>\n",
       "    </tr>\n",
       "    <tr>\n",
       "      <th>...</th>\n",
       "      <td>...</td>\n",
       "      <td>...</td>\n",
       "    </tr>\n",
       "    <tr>\n",
       "      <th>19995</th>\n",
       "      <td>45.0</td>\n",
       "      <td>45.0</td>\n",
       "    </tr>\n",
       "    <tr>\n",
       "      <th>19996</th>\n",
       "      <td>18.0</td>\n",
       "      <td>18.0</td>\n",
       "    </tr>\n",
       "    <tr>\n",
       "      <th>19997</th>\n",
       "      <td>43.0</td>\n",
       "      <td>43.0</td>\n",
       "    </tr>\n",
       "    <tr>\n",
       "      <th>19998</th>\n",
       "      <td>36.0</td>\n",
       "      <td>36.0</td>\n",
       "    </tr>\n",
       "    <tr>\n",
       "      <th>19999</th>\n",
       "      <td>83.0</td>\n",
       "      <td>83.0</td>\n",
       "    </tr>\n",
       "  </tbody>\n",
       "</table>\n",
       "<p>20000 rows × 2 columns</p>\n",
       "</div>"
      ],
      "text/plain": [
       "       Actual  Predicted\n",
       "0       122.0      122.0\n",
       "1        39.0       39.0\n",
       "2        27.0       27.0\n",
       "3        42.0       42.0\n",
       "4        52.0       52.0\n",
       "...       ...        ...\n",
       "19995    45.0       45.0\n",
       "19996    18.0       18.0\n",
       "19997    43.0       43.0\n",
       "19998    36.0       36.0\n",
       "19999    83.0       83.0\n",
       "\n",
       "[20000 rows x 2 columns]"
      ]
     },
     "execution_count": 26,
     "metadata": {},
     "output_type": "execute_result"
    }
   ],
   "source": [
    "# Comparació X-test amb la predicció\n",
    "pred_lineal = pd.DataFrame({\"Actual\":y_test, \"Predicted\":prediccioLineal})\n",
    "pred_lineal\n",
    "\n",
    "#No entenc perquè em surt igual"
   ]
  },
  {
   "cell_type": "markdown",
   "id": "ebbd00cc",
   "metadata": {},
   "source": [
    "CANVIEM PARÀMETRES DE LA REGRESSIÓ POLINOMINAL"
   ]
  },
  {
   "cell_type": "code",
   "execution_count": 27,
   "id": "c3805736",
   "metadata": {
    "ExecuteTime": {
     "end_time": "2022-07-04T08:01:36.613905Z",
     "start_time": "2022-07-04T08:01:32.614321Z"
    }
   },
   "outputs": [],
   "source": [
    "#Creo la instancia necessària\n",
    "transformer = PolynomialFeatures(degree=3, include_bias=True, interaction_only=True)\n",
    "X = transformer.fit_transform(x)\n",
    "X.reshape((-1,1))\n",
    "#Creo el train test de nou amb la X correcte\n",
    "X_train, X_test, y_train, y_test = train_test_split(X, y, test_size = 0.2, random_state=0)\n"
   ]
  },
  {
   "cell_type": "code",
   "execution_count": 28,
   "id": "24733075",
   "metadata": {
    "ExecuteTime": {
     "end_time": "2022-07-04T08:02:20.184721Z",
     "start_time": "2022-07-04T08:01:36.617902Z"
    }
   },
   "outputs": [
    {
     "name": "stdout",
     "output_type": "stream",
     "text": [
      "coefficient of determination: 1.0\n",
      "intercept: 0.00016865601577364941\n",
      "coefficients: [-7.17138572e-17 -8.39919234e-08  4.53184445e-08 ... -3.44700174e-16\n",
      "  0.00000000e+00  3.77823947e-15]\n"
     ]
    }
   ],
   "source": [
    "# Creo el model de regressió i l'aplico\n",
    "model = LinearRegression(n_jobs=-1).fit(X_train, y_train)\n",
    "\n",
    "r_sq = model.score(X_test, y_test)\n",
    "print(f\"coefficient of determination: {r_sq}\")\n",
    "\n",
    "print(f\"intercept: {model.intercept_}\")\n",
    "\n",
    "print(f\"coefficients: {model.coef_}\")"
   ]
  },
  {
   "cell_type": "code",
   "execution_count": 29,
   "id": "01501cef",
   "metadata": {
    "ExecuteTime": {
     "end_time": "2022-07-04T08:02:20.309644Z",
     "start_time": "2022-07-04T08:02:20.188718Z"
    }
   },
   "outputs": [
    {
     "name": "stdout",
     "output_type": "stream",
     "text": [
      "predicted response:\n",
      "[122.  39.  27. ...  43.  36.  83.]\n"
     ]
    }
   ],
   "source": [
    "prediccioPolinominal = model.predict(X_test)\n",
    "print(f\"predicted response:\\n{prediccioPolinominal}\")"
   ]
  },
  {
   "cell_type": "code",
   "execution_count": 30,
   "id": "3deb5a44",
   "metadata": {
    "ExecuteTime": {
     "end_time": "2022-07-04T08:02:20.341624Z",
     "start_time": "2022-07-04T08:02:20.313641Z"
    }
   },
   "outputs": [
    {
     "data": {
      "text/html": [
       "<div>\n",
       "<style scoped>\n",
       "    .dataframe tbody tr th:only-of-type {\n",
       "        vertical-align: middle;\n",
       "    }\n",
       "\n",
       "    .dataframe tbody tr th {\n",
       "        vertical-align: top;\n",
       "    }\n",
       "\n",
       "    .dataframe thead th {\n",
       "        text-align: right;\n",
       "    }\n",
       "</style>\n",
       "<table border=\"1\" class=\"dataframe\">\n",
       "  <thead>\n",
       "    <tr style=\"text-align: right;\">\n",
       "      <th></th>\n",
       "      <th>Actual</th>\n",
       "      <th>Predicted</th>\n",
       "    </tr>\n",
       "  </thead>\n",
       "  <tbody>\n",
       "    <tr>\n",
       "      <th>0</th>\n",
       "      <td>122.0</td>\n",
       "      <td>122.0</td>\n",
       "    </tr>\n",
       "    <tr>\n",
       "      <th>1</th>\n",
       "      <td>39.0</td>\n",
       "      <td>39.0</td>\n",
       "    </tr>\n",
       "    <tr>\n",
       "      <th>2</th>\n",
       "      <td>27.0</td>\n",
       "      <td>27.0</td>\n",
       "    </tr>\n",
       "    <tr>\n",
       "      <th>3</th>\n",
       "      <td>42.0</td>\n",
       "      <td>42.0</td>\n",
       "    </tr>\n",
       "    <tr>\n",
       "      <th>4</th>\n",
       "      <td>52.0</td>\n",
       "      <td>52.0</td>\n",
       "    </tr>\n",
       "    <tr>\n",
       "      <th>...</th>\n",
       "      <td>...</td>\n",
       "      <td>...</td>\n",
       "    </tr>\n",
       "    <tr>\n",
       "      <th>19995</th>\n",
       "      <td>45.0</td>\n",
       "      <td>45.0</td>\n",
       "    </tr>\n",
       "    <tr>\n",
       "      <th>19996</th>\n",
       "      <td>18.0</td>\n",
       "      <td>18.0</td>\n",
       "    </tr>\n",
       "    <tr>\n",
       "      <th>19997</th>\n",
       "      <td>43.0</td>\n",
       "      <td>43.0</td>\n",
       "    </tr>\n",
       "    <tr>\n",
       "      <th>19998</th>\n",
       "      <td>36.0</td>\n",
       "      <td>36.0</td>\n",
       "    </tr>\n",
       "    <tr>\n",
       "      <th>19999</th>\n",
       "      <td>83.0</td>\n",
       "      <td>83.0</td>\n",
       "    </tr>\n",
       "  </tbody>\n",
       "</table>\n",
       "<p>20000 rows × 2 columns</p>\n",
       "</div>"
      ],
      "text/plain": [
       "       Actual  Predicted\n",
       "0       122.0      122.0\n",
       "1        39.0       39.0\n",
       "2        27.0       27.0\n",
       "3        42.0       42.0\n",
       "4        52.0       52.0\n",
       "...       ...        ...\n",
       "19995    45.0       45.0\n",
       "19996    18.0       18.0\n",
       "19997    43.0       43.0\n",
       "19998    36.0       36.0\n",
       "19999    83.0       83.0\n",
       "\n",
       "[20000 rows x 2 columns]"
      ]
     },
     "execution_count": 30,
     "metadata": {},
     "output_type": "execute_result"
    }
   ],
   "source": [
    "# Comparació X-test amb la predicció\n",
    "pred_polinominal = pd.DataFrame({\"Actual\":y_test, \"Predicted\":prediccioPolinominal})\n",
    "pred_polinominal\n",
    "\n",
    "#No entenc perquè em surt igual"
   ]
  },
  {
   "cell_type": "markdown",
   "id": "e635d5ee",
   "metadata": {},
   "source": [
    "CANVIEM PARÀMETRES DE LA REGRESSIÓ D'ARBRE (DECISION TREE REGRESSION)"
   ]
  },
  {
   "cell_type": "code",
   "execution_count": null,
   "id": "4fca7de1",
   "metadata": {
    "ExecuteTime": {
     "end_time": "2022-07-04T07:28:29.463579Z",
     "start_time": "2022-07-04T07:28:29.446591Z"
    }
   },
   "outputs": [],
   "source": []
  },
  {
   "cell_type": "markdown",
   "id": "0619d813",
   "metadata": {},
   "source": [
    "\n",
    "\n",
    "\n",
    "### Exercici 4\n",
    "Compara el seu rendiment utilitzant l’aproximació traint/test o utilitzant totes les dades (validació interna)\n",
    "\n",
    "\n"
   ]
  },
  {
   "cell_type": "markdown",
   "id": "16c807cb",
   "metadata": {},
   "source": [
    "REGRESSIÓ LINEAL MÚLTIPLE"
   ]
  },
  {
   "cell_type": "code",
   "execution_count": 31,
   "id": "1177821b",
   "metadata": {
    "ExecuteTime": {
     "end_time": "2022-07-04T08:02:20.527386Z",
     "start_time": "2022-07-04T08:02:20.344624Z"
    }
   },
   "outputs": [
    {
     "name": "stdout",
     "output_type": "stream",
     "text": [
      "coefficient of determination: 1.0\n",
      "intercept: 5.826450433232822e-13\n",
      "coefficients: [ 0.00000000e+00  1.27051147e-14  1.39862080e-15 -3.82415318e-14\n",
      " -3.03576608e-16  1.01915004e-16 -1.90819582e-16  1.26634814e-16\n",
      "  0.00000000e+00  1.74418605e-01 -2.32558140e-01  5.81395349e-02\n",
      "  6.39534884e-01  2.32558140e-01  2.79290480e-16  5.81395349e-02\n",
      "  5.81395349e-02 -1.21430643e-17  2.77555756e-17  1.27906977e-01\n",
      "  1.27906977e-01  1.27906977e-01  1.27906977e-01  1.27906977e-01]\n"
     ]
    }
   ],
   "source": [
    "# Creo el model de regressió\n",
    "model = LinearRegression(n_jobs=-1).fit(x, y)\n",
    "\n",
    "r_sq = model.score(x, y)\n",
    "print(f\"coefficient of determination: {r_sq}\")\n",
    "\n",
    "print(f\"intercept: {model.intercept_}\")\n",
    "\n",
    "print(f\"coefficients: {model.coef_}\")"
   ]
  },
  {
   "cell_type": "code",
   "execution_count": 32,
   "id": "3faad856",
   "metadata": {
    "ExecuteTime": {
     "end_time": "2022-07-04T08:02:20.557858Z",
     "start_time": "2022-07-04T08:02:20.531386Z"
    }
   },
   "outputs": [
    {
     "name": "stdout",
     "output_type": "stream",
     "text": [
      "[ 16.  99.  29. ... 110.  54.  18.]\n"
     ]
    }
   ],
   "source": [
    "prediccioLineal = model.predict(x)\n",
    "print(prediccioLineal)"
   ]
  },
  {
   "cell_type": "code",
   "execution_count": 33,
   "id": "162feed9",
   "metadata": {
    "ExecuteTime": {
     "end_time": "2022-07-04T08:02:20.619653Z",
     "start_time": "2022-07-04T08:02:20.583129Z"
    }
   },
   "outputs": [
    {
     "data": {
      "text/html": [
       "<div>\n",
       "<style scoped>\n",
       "    .dataframe tbody tr th:only-of-type {\n",
       "        vertical-align: middle;\n",
       "    }\n",
       "\n",
       "    .dataframe tbody tr th {\n",
       "        vertical-align: top;\n",
       "    }\n",
       "\n",
       "    .dataframe thead th {\n",
       "        text-align: right;\n",
       "    }\n",
       "</style>\n",
       "<table border=\"1\" class=\"dataframe\">\n",
       "  <thead>\n",
       "    <tr style=\"text-align: right;\">\n",
       "      <th></th>\n",
       "      <th>Actual</th>\n",
       "      <th>Predicted</th>\n",
       "    </tr>\n",
       "  </thead>\n",
       "  <tbody>\n",
       "    <tr>\n",
       "      <th>0</th>\n",
       "      <td>16.0</td>\n",
       "      <td>16.0</td>\n",
       "    </tr>\n",
       "    <tr>\n",
       "      <th>1</th>\n",
       "      <td>99.0</td>\n",
       "      <td>99.0</td>\n",
       "    </tr>\n",
       "    <tr>\n",
       "      <th>2</th>\n",
       "      <td>29.0</td>\n",
       "      <td>29.0</td>\n",
       "    </tr>\n",
       "    <tr>\n",
       "      <th>3</th>\n",
       "      <td>32.0</td>\n",
       "      <td>32.0</td>\n",
       "    </tr>\n",
       "    <tr>\n",
       "      <th>4</th>\n",
       "      <td>23.0</td>\n",
       "      <td>23.0</td>\n",
       "    </tr>\n",
       "    <tr>\n",
       "      <th>...</th>\n",
       "      <td>...</td>\n",
       "      <td>...</td>\n",
       "    </tr>\n",
       "    <tr>\n",
       "      <th>99995</th>\n",
       "      <td>23.0</td>\n",
       "      <td>23.0</td>\n",
       "    </tr>\n",
       "    <tr>\n",
       "      <th>99996</th>\n",
       "      <td>26.0</td>\n",
       "      <td>26.0</td>\n",
       "    </tr>\n",
       "    <tr>\n",
       "      <th>99997</th>\n",
       "      <td>110.0</td>\n",
       "      <td>110.0</td>\n",
       "    </tr>\n",
       "    <tr>\n",
       "      <th>99998</th>\n",
       "      <td>54.0</td>\n",
       "      <td>54.0</td>\n",
       "    </tr>\n",
       "    <tr>\n",
       "      <th>99999</th>\n",
       "      <td>18.0</td>\n",
       "      <td>18.0</td>\n",
       "    </tr>\n",
       "  </tbody>\n",
       "</table>\n",
       "<p>100000 rows × 2 columns</p>\n",
       "</div>"
      ],
      "text/plain": [
       "       Actual  Predicted\n",
       "0        16.0       16.0\n",
       "1        99.0       99.0\n",
       "2        29.0       29.0\n",
       "3        32.0       32.0\n",
       "4        23.0       23.0\n",
       "...       ...        ...\n",
       "99995    23.0       23.0\n",
       "99996    26.0       26.0\n",
       "99997   110.0      110.0\n",
       "99998    54.0       54.0\n",
       "99999    18.0       18.0\n",
       "\n",
       "[100000 rows x 2 columns]"
      ]
     },
     "execution_count": 33,
     "metadata": {},
     "output_type": "execute_result"
    }
   ],
   "source": [
    "# Comparació X-test amb la predicció\n",
    "pred_lineal = pd.DataFrame({\"Actual\":y, \"Predicted\":prediccioLineal})\n",
    "pred_lineal\n",
    "\n",
    "#No entenc perquè em surt igual"
   ]
  },
  {
   "cell_type": "code",
   "execution_count": 34,
   "id": "fdfe5705",
   "metadata": {
    "ExecuteTime": {
     "end_time": "2022-07-04T08:02:20.651631Z",
     "start_time": "2022-07-04T08:02:20.623648Z"
    }
   },
   "outputs": [
    {
     "name": "stdout",
     "output_type": "stream",
     "text": [
      "REGRESSIÓ LINEAL\n",
      "Mean Absolute Error: 1.5488041071876069e-13\n",
      "Mean Squared Error: 4.109286176381836e-26\n",
      "Root Mean Squared Error: 2.0271374340142397e-13\n"
     ]
    }
   ],
   "source": [
    "print(\"REGRESSIÓ LINEAL\")\n",
    "print('Mean Absolute Error:', metrics.mean_absolute_error(y, prediccioLineal))\n",
    "print('Mean Squared Error:', metrics.mean_squared_error(y, prediccioLineal))\n",
    "print('Root Mean Squared Error:', np.sqrt(metrics.mean_squared_error(y, prediccioLineal)))"
   ]
  },
  {
   "cell_type": "markdown",
   "id": "85537cf6",
   "metadata": {},
   "source": [
    "REGRESSIÓ POLINOMINAL"
   ]
  },
  {
   "cell_type": "code",
   "execution_count": 35,
   "id": "fda61365",
   "metadata": {
    "ExecuteTime": {
     "end_time": "2022-07-04T08:02:21.416466Z",
     "start_time": "2022-07-04T08:02:20.654630Z"
    }
   },
   "outputs": [
    {
     "data": {
      "text/plain": [
       "array([[2.008e+03],\n",
       "       [2.000e+00],\n",
       "       [2.600e+01],\n",
       "       ...,\n",
       "       [0.000e+00],\n",
       "       [0.000e+00],\n",
       "       [1.690e+02]])"
      ]
     },
     "execution_count": 35,
     "metadata": {},
     "output_type": "execute_result"
    }
   ],
   "source": [
    "#Creo la instancia necessària\n",
    "transformer = PolynomialFeatures(degree=2, include_bias=False)\n",
    "X = transformer.fit_transform(x)\n",
    "X.reshape((-1,1))\n"
   ]
  },
  {
   "cell_type": "code",
   "execution_count": 36,
   "id": "b66de46f",
   "metadata": {
    "ExecuteTime": {
     "end_time": "2022-07-04T08:02:24.768305Z",
     "start_time": "2022-07-04T08:02:21.419463Z"
    }
   },
   "outputs": [
    {
     "name": "stdout",
     "output_type": "stream",
     "text": [
      "coefficient of determination: 1.0\n",
      "intercept: 6.181721801112872e-13\n",
      "coefficients: [-6.93341280e-20 -4.04747918e-16  1.34813764e-17  3.03989960e-16\n",
      " -5.40949121e-17 -1.23267011e-16  1.11930322e-16  5.73644593e-17\n",
      " -3.87305815e-17  4.32578851e-08 -5.76771802e-08  1.44192951e-08\n",
      "  1.58612246e-07  5.76771802e-08  2.92375259e-17  1.44192951e-08\n",
      "  1.44192951e-08  2.76471554e-18 -7.18283939e-18  3.17224491e-08\n",
      "  3.17224491e-08  3.17224491e-08  3.17224491e-08  3.17224491e-08\n",
      " -3.59141970e-19  1.69347297e-17 -6.29091370e-18 -3.07197674e-18\n",
      "  1.45350854e-18 -1.18923426e-18  7.42000862e-19 -5.09913834e-19\n",
      "  6.09863722e-20  8.68618334e-05 -1.15815778e-04  2.89539445e-05\n",
      "  3.18493389e-04  1.15815778e-04 -3.37119113e-19  2.89539445e-05\n",
      "  2.89539445e-05  1.86347248e-19 -1.67712524e-19  6.36986778e-05\n",
      "  6.36986778e-05  6.36986778e-05  6.36986778e-05  6.36986778e-05\n",
      "  8.81399787e-17  2.96756868e-17 -5.67131835e-16  4.24448210e-18\n",
      "  3.23905399e-18  6.48191963e-19  1.60131579e-18 -5.78099987e-19\n",
      "  5.08510936e-18  1.53552780e-17 -6.41548048e-18 -1.06271798e-17\n",
      " -4.30517730e-19 -3.36843827e-18  1.33053077e-17 -1.72733179e-18\n",
      " -3.55753838e-20  9.48676901e-20  6.88929615e-18  2.21084384e-17\n",
      "  1.97428160e-19 -3.66663344e-17 -2.63361072e-18 -4.82837897e-18\n",
      " -6.32664956e-18 -3.24667729e-18 -1.01474547e-18  1.99052743e-19\n",
      "  1.22396261e-18  2.75031598e-18  2.76662136e-19  1.52571810e-19\n",
      " -1.78872183e-18 -6.75085259e-19 -1.20851418e-18 -2.83756037e-19\n",
      " -6.55927756e-19  2.99978042e-18 -3.72694497e-20 -1.49077799e-19\n",
      " -1.67780021e-18  5.38908169e-20 -3.59071825e-18  5.77838913e-18\n",
      " -1.04172645e-18 -1.82383532e-16 -2.81214938e-19  1.93557616e-18\n",
      " -1.57526952e-18 -1.70317150e-18  4.73618472e-18 -5.93206290e-18\n",
      "  1.46300457e-17  9.62319425e-18 -1.07470085e-17  9.71882957e-18\n",
      " -3.32640426e-18 -2.30296078e-17  7.53706626e-18  0.00000000e+00\n",
      " -3.38813179e-20 -1.34122903e-17 -1.46349803e-17  9.64857546e-18\n",
      "  1.29302377e-17 -5.35444598e-18  6.03087458e-19 -1.19939865e-18\n",
      " -1.55854062e-19 -1.35525272e-20 -1.32137140e-19 -1.94912869e-18\n",
      "  9.41900637e-19 -1.39336920e-18  3.21872520e-19 -3.22296036e-18\n",
      " -5.28548559e-19 -9.58523659e-19 -5.50359657e-19 -4.23516474e-21\n",
      "  0.00000000e+00  2.09217138e-19  9.52488549e-19  1.82959117e-19\n",
      " -2.78223192e-18 -2.64274280e-19  8.23316025e-19 -3.09167026e-19\n",
      " -2.93073400e-19  8.47032947e-22 -6.44592073e-19  1.01898064e-18\n",
      " -5.48877350e-19  1.70761842e-18 -3.38813179e-21  6.50521303e-19\n",
      " -1.23243294e-18 -3.23143069e-19 -7.94093388e-22 -8.47032947e-22\n",
      "  2.58345049e-19 -4.13775595e-19 -8.77526133e-19  2.48336164e-18\n",
      "  9.19030748e-20  3.77776694e-19 -5.69206141e-19 -2.79520873e-20\n",
      "  1.51788304e-18 -2.63935466e-18 -6.80802731e-20 -1.76352260e-18\n",
      "  1.53651777e-18 -1.44842634e-19  1.75441699e-19  1.80841534e-19\n",
      "  8.99972506e-22 -5.29395592e-23 -1.32645360e-18 -1.51830656e-19\n",
      " -7.62329653e-19 -8.20139651e-19  4.40457133e-20  4.47233396e-19\n",
      "  1.23666810e-19 -3.33540399e-18  3.16536212e-18  1.72037686e-18\n",
      "  1.93123512e-19 -7.11507676e-19  9.69852725e-20  1.53360609e-18\n",
      "  9.06325254e-19 -7.94093388e-23  5.29395592e-22  2.01847951e-18\n",
      "  2.34924588e-18  2.13791116e-18  1.68078468e-18  1.45096744e-18\n",
      " -1.93229391e-20  1.62884436e-18 -1.62905612e-18 -2.96461532e-21\n",
      " -1.19177536e-18  2.05405490e-18  7.11507676e-20 -3.26213564e-19\n",
      " -4.94667241e-19  0.00000000e+00  0.00000000e+00 -1.40438063e-18\n",
      " -1.75844040e-18 -8.88114045e-19 -1.24641560e-18 -6.87578995e-19\n",
      " -2.40387950e-18 -1.00648690e-18 -1.58162227e-18 -2.24781368e-18\n",
      " -1.01548662e-18 -5.95464162e-19 -1.81713465e-18 -5.04619878e-19\n",
      "  0.00000000e+00  0.00000000e+00  3.43694206e-18 -1.74793190e-18\n",
      "  4.84989890e-18 -1.25982411e-17  4.19429540e-18  7.01766797e-19\n",
      " -2.35464571e-18 -3.32036915e-18  9.88593329e-19  7.87740641e-20\n",
      "  3.21752744e-18 -2.85542747e-18  0.00000000e+00  0.00000000e+00\n",
      " -5.55526558e-18  3.97614471e-18 -4.93401986e-18  7.74852009e-18\n",
      " -3.98285480e-18 -2.37402159e-18  3.49062278e-18  1.68411326e-18\n",
      "  2.54787511e-18 -6.86561563e-19  2.86847708e-18  0.00000000e+00\n",
      "  0.00000000e+00 -1.91101221e-18 -6.37746988e-18 -2.53321085e-18\n",
      "  1.68652929e-17 -2.65237780e-18 -1.00352228e-18 -2.40705588e-18\n",
      " -1.29426634e-18 -6.28835937e-18  9.09131050e-19  0.00000000e+00\n",
      "  0.00000000e+00  1.10902818e-17 -1.57370648e-17  1.13212306e-17\n",
      " -1.79509509e-17  9.99827103e-18 -4.33045594e-20 -3.15096256e-19\n",
      " -1.22447215e-18 -1.20368676e-18  0.00000000e+00  0.00000000e+00\n",
      "  2.04883373e-18 -9.95853989e-18  1.12779790e-18  2.41378520e-18\n",
      "  1.62365628e-18 -4.06575815e-20  1.08896673e-18  2.47206566e-18\n",
      "  0.00000000e+00  0.00000000e+00  1.22735074e-18  2.12658209e-18\n",
      "  1.93843490e-18 -1.46215754e-19  1.93843490e-18  9.76106210e-19\n",
      " -2.18885721e-18  0.00000000e+00  0.00000000e+00  3.40917196e-18\n",
      "  5.02481037e-18  4.57604587e-18 -2.29027454e-17  3.64615258e-18\n",
      " -1.28619306e-18  0.00000000e+00  0.00000000e+00  2.07508514e-18\n",
      " -4.66576188e-19  2.92669736e-18 -6.56432202e-18  3.04160267e-18\n",
      "  0.00000000e+00  0.00000000e+00  0.00000000e+00  0.00000000e+00\n",
      "  0.00000000e+00  0.00000000e+00  0.00000000e+00  0.00000000e+00\n",
      "  0.00000000e+00  0.00000000e+00  0.00000000e+00  0.00000000e+00\n",
      "  0.00000000e+00 -7.91687285e-18  2.27926845e-17 -1.47270111e-17\n",
      "  2.52788183e-17 -1.39593644e-17  3.11622429e-17  1.91683060e-17\n",
      " -1.13057515e-16  2.42270572e-17 -8.96782898e-18  3.00478952e-17\n",
      " -1.45487967e-17  2.09414392e-17  1.88373528e-17 -4.69256253e-18]\n"
     ]
    }
   ],
   "source": [
    "# Creo el model de regressió i l'aplico\n",
    "model = LinearRegression(n_jobs=-1).fit(X, y)\n",
    "\n",
    "r_sq = model.score(X, y)\n",
    "print(f\"coefficient of determination: {r_sq}\")\n",
    "\n",
    "print(f\"intercept: {model.intercept_}\")\n",
    "\n",
    "print(f\"coefficients: {model.coef_}\")"
   ]
  },
  {
   "cell_type": "code",
   "execution_count": 37,
   "id": "2be69366",
   "metadata": {
    "ExecuteTime": {
     "end_time": "2022-07-04T08:02:24.863246Z",
     "start_time": "2022-07-04T08:02:24.772303Z"
    }
   },
   "outputs": [
    {
     "name": "stdout",
     "output_type": "stream",
     "text": [
      "predicted response:\n",
      "[ 16.  99.  29. ... 110.  54.  18.]\n"
     ]
    }
   ],
   "source": [
    "prediccioPolinominal = model.predict(X)\n",
    "print(f\"predicted response:\\n{prediccioPolinominal}\")"
   ]
  },
  {
   "cell_type": "code",
   "execution_count": 38,
   "id": "eddee0f1",
   "metadata": {
    "ExecuteTime": {
     "end_time": "2022-07-04T08:02:24.894228Z",
     "start_time": "2022-07-04T08:02:24.866247Z"
    }
   },
   "outputs": [
    {
     "data": {
      "text/html": [
       "<div>\n",
       "<style scoped>\n",
       "    .dataframe tbody tr th:only-of-type {\n",
       "        vertical-align: middle;\n",
       "    }\n",
       "\n",
       "    .dataframe tbody tr th {\n",
       "        vertical-align: top;\n",
       "    }\n",
       "\n",
       "    .dataframe thead th {\n",
       "        text-align: right;\n",
       "    }\n",
       "</style>\n",
       "<table border=\"1\" class=\"dataframe\">\n",
       "  <thead>\n",
       "    <tr style=\"text-align: right;\">\n",
       "      <th></th>\n",
       "      <th>Actual</th>\n",
       "      <th>Predicted</th>\n",
       "    </tr>\n",
       "  </thead>\n",
       "  <tbody>\n",
       "    <tr>\n",
       "      <th>0</th>\n",
       "      <td>16.0</td>\n",
       "      <td>16.0</td>\n",
       "    </tr>\n",
       "    <tr>\n",
       "      <th>1</th>\n",
       "      <td>99.0</td>\n",
       "      <td>99.0</td>\n",
       "    </tr>\n",
       "    <tr>\n",
       "      <th>2</th>\n",
       "      <td>29.0</td>\n",
       "      <td>29.0</td>\n",
       "    </tr>\n",
       "    <tr>\n",
       "      <th>3</th>\n",
       "      <td>32.0</td>\n",
       "      <td>32.0</td>\n",
       "    </tr>\n",
       "    <tr>\n",
       "      <th>4</th>\n",
       "      <td>23.0</td>\n",
       "      <td>23.0</td>\n",
       "    </tr>\n",
       "    <tr>\n",
       "      <th>...</th>\n",
       "      <td>...</td>\n",
       "      <td>...</td>\n",
       "    </tr>\n",
       "    <tr>\n",
       "      <th>99995</th>\n",
       "      <td>23.0</td>\n",
       "      <td>23.0</td>\n",
       "    </tr>\n",
       "    <tr>\n",
       "      <th>99996</th>\n",
       "      <td>26.0</td>\n",
       "      <td>26.0</td>\n",
       "    </tr>\n",
       "    <tr>\n",
       "      <th>99997</th>\n",
       "      <td>110.0</td>\n",
       "      <td>110.0</td>\n",
       "    </tr>\n",
       "    <tr>\n",
       "      <th>99998</th>\n",
       "      <td>54.0</td>\n",
       "      <td>54.0</td>\n",
       "    </tr>\n",
       "    <tr>\n",
       "      <th>99999</th>\n",
       "      <td>18.0</td>\n",
       "      <td>18.0</td>\n",
       "    </tr>\n",
       "  </tbody>\n",
       "</table>\n",
       "<p>100000 rows × 2 columns</p>\n",
       "</div>"
      ],
      "text/plain": [
       "       Actual  Predicted\n",
       "0        16.0       16.0\n",
       "1        99.0       99.0\n",
       "2        29.0       29.0\n",
       "3        32.0       32.0\n",
       "4        23.0       23.0\n",
       "...       ...        ...\n",
       "99995    23.0       23.0\n",
       "99996    26.0       26.0\n",
       "99997   110.0      110.0\n",
       "99998    54.0       54.0\n",
       "99999    18.0       18.0\n",
       "\n",
       "[100000 rows x 2 columns]"
      ]
     },
     "execution_count": 38,
     "metadata": {},
     "output_type": "execute_result"
    }
   ],
   "source": [
    "# Comparació X-test amb la predicció\n",
    "pred_polinominal = pd.DataFrame({\"Actual\":y, \"Predicted\":prediccioPolinominal})\n",
    "pred_polinominal\n",
    "\n",
    "#No entenc perquè em surt igual"
   ]
  },
  {
   "cell_type": "code",
   "execution_count": 39,
   "id": "6e377da3",
   "metadata": {
    "ExecuteTime": {
     "end_time": "2022-07-04T08:02:24.926209Z",
     "start_time": "2022-07-04T08:02:24.897226Z"
    }
   },
   "outputs": [
    {
     "name": "stdout",
     "output_type": "stream",
     "text": [
      "REGRESSIÓ POLINOMINAL\n",
      "Mean Absolute Error: 2.3955818662102503e-13\n",
      "Mean Squared Error: 1.0287020560438499e-25\n",
      "Root Mean Squared Error: 3.207338547836586e-13\n"
     ]
    }
   ],
   "source": [
    "print(\"REGRESSIÓ POLINOMINAL\")\n",
    "print('Mean Absolute Error:', metrics.mean_absolute_error(y, prediccioPolinominal))\n",
    "print('Mean Squared Error:', metrics.mean_squared_error(y, prediccioPolinominal))\n",
    "print('Root Mean Squared Error:', np.sqrt(metrics.mean_squared_error(y, prediccioPolinominal)))\n"
   ]
  },
  {
   "cell_type": "markdown",
   "id": "09f02549",
   "metadata": {},
   "source": [
    "DECISION TREE REGRESSOR"
   ]
  },
  {
   "cell_type": "code",
   "execution_count": 40,
   "id": "fe020f8a",
   "metadata": {
    "ExecuteTime": {
     "end_time": "2022-07-04T08:02:26.105186Z",
     "start_time": "2022-07-04T08:02:24.930206Z"
    }
   },
   "outputs": [
    {
     "data": {
      "text/html": [
       "<style>#sk-container-id-2 {color: black;background-color: white;}#sk-container-id-2 pre{padding: 0;}#sk-container-id-2 div.sk-toggleable {background-color: white;}#sk-container-id-2 label.sk-toggleable__label {cursor: pointer;display: block;width: 100%;margin-bottom: 0;padding: 0.3em;box-sizing: border-box;text-align: center;}#sk-container-id-2 label.sk-toggleable__label-arrow:before {content: \"▸\";float: left;margin-right: 0.25em;color: #696969;}#sk-container-id-2 label.sk-toggleable__label-arrow:hover:before {color: black;}#sk-container-id-2 div.sk-estimator:hover label.sk-toggleable__label-arrow:before {color: black;}#sk-container-id-2 div.sk-toggleable__content {max-height: 0;max-width: 0;overflow: hidden;text-align: left;background-color: #f0f8ff;}#sk-container-id-2 div.sk-toggleable__content pre {margin: 0.2em;color: black;border-radius: 0.25em;background-color: #f0f8ff;}#sk-container-id-2 input.sk-toggleable__control:checked~div.sk-toggleable__content {max-height: 200px;max-width: 100%;overflow: auto;}#sk-container-id-2 input.sk-toggleable__control:checked~label.sk-toggleable__label-arrow:before {content: \"▾\";}#sk-container-id-2 div.sk-estimator input.sk-toggleable__control:checked~label.sk-toggleable__label {background-color: #d4ebff;}#sk-container-id-2 div.sk-label input.sk-toggleable__control:checked~label.sk-toggleable__label {background-color: #d4ebff;}#sk-container-id-2 input.sk-hidden--visually {border: 0;clip: rect(1px 1px 1px 1px);clip: rect(1px, 1px, 1px, 1px);height: 1px;margin: -1px;overflow: hidden;padding: 0;position: absolute;width: 1px;}#sk-container-id-2 div.sk-estimator {font-family: monospace;background-color: #f0f8ff;border: 1px dotted black;border-radius: 0.25em;box-sizing: border-box;margin-bottom: 0.5em;}#sk-container-id-2 div.sk-estimator:hover {background-color: #d4ebff;}#sk-container-id-2 div.sk-parallel-item::after {content: \"\";width: 100%;border-bottom: 1px solid gray;flex-grow: 1;}#sk-container-id-2 div.sk-label:hover label.sk-toggleable__label {background-color: #d4ebff;}#sk-container-id-2 div.sk-serial::before {content: \"\";position: absolute;border-left: 1px solid gray;box-sizing: border-box;top: 0;bottom: 0;left: 50%;z-index: 0;}#sk-container-id-2 div.sk-serial {display: flex;flex-direction: column;align-items: center;background-color: white;padding-right: 0.2em;padding-left: 0.2em;position: relative;}#sk-container-id-2 div.sk-item {position: relative;z-index: 1;}#sk-container-id-2 div.sk-parallel {display: flex;align-items: stretch;justify-content: center;background-color: white;position: relative;}#sk-container-id-2 div.sk-item::before, #sk-container-id-2 div.sk-parallel-item::before {content: \"\";position: absolute;border-left: 1px solid gray;box-sizing: border-box;top: 0;bottom: 0;left: 50%;z-index: -1;}#sk-container-id-2 div.sk-parallel-item {display: flex;flex-direction: column;z-index: 1;position: relative;background-color: white;}#sk-container-id-2 div.sk-parallel-item:first-child::after {align-self: flex-end;width: 50%;}#sk-container-id-2 div.sk-parallel-item:last-child::after {align-self: flex-start;width: 50%;}#sk-container-id-2 div.sk-parallel-item:only-child::after {width: 0;}#sk-container-id-2 div.sk-dashed-wrapped {border: 1px dashed gray;margin: 0 0.4em 0.5em 0.4em;box-sizing: border-box;padding-bottom: 0.4em;background-color: white;}#sk-container-id-2 div.sk-label label {font-family: monospace;font-weight: bold;display: inline-block;line-height: 1.2em;}#sk-container-id-2 div.sk-label-container {text-align: center;}#sk-container-id-2 div.sk-container {/* jupyter's `normalize.less` sets `[hidden] { display: none; }` but bootstrap.min.css set `[hidden] { display: none !important; }` so we also need the `!important` here to be able to override the default hidden behavior on the sphinx rendered scikit-learn.org. See: https://github.com/scikit-learn/scikit-learn/issues/21755 */display: inline-block !important;position: relative;}#sk-container-id-2 div.sk-text-repr-fallback {display: none;}</style><div id=\"sk-container-id-2\" class=\"sk-top-container\"><div class=\"sk-text-repr-fallback\"><pre>DecisionTreeRegressor(random_state=0)</pre><b>In a Jupyter environment, please rerun this cell to show the HTML representation or trust the notebook. <br />On GitHub, the HTML representation is unable to render, please try loading this page with nbviewer.org.</b></div><div class=\"sk-container\" hidden><div class=\"sk-item\"><div class=\"sk-estimator sk-toggleable\"><input class=\"sk-toggleable__control sk-hidden--visually\" id=\"sk-estimator-id-2\" type=\"checkbox\" checked><label for=\"sk-estimator-id-2\" class=\"sk-toggleable__label sk-toggleable__label-arrow\">DecisionTreeRegressor</label><div class=\"sk-toggleable__content\"><pre>DecisionTreeRegressor(random_state=0)</pre></div></div></div></div></div>"
      ],
      "text/plain": [
       "DecisionTreeRegressor(random_state=0)"
      ]
     },
     "execution_count": 40,
     "metadata": {},
     "output_type": "execute_result"
    }
   ],
   "source": [
    "#Creo la instancia necessària\n",
    "regressor = DecisionTreeRegressor(random_state=0)\n",
    "regressor.fit(x,y)"
   ]
  },
  {
   "cell_type": "code",
   "execution_count": 41,
   "id": "3799df58",
   "metadata": {
    "ExecuteTime": {
     "end_time": "2022-07-04T08:02:26.153120Z",
     "start_time": "2022-07-04T08:02:26.108180Z"
    }
   },
   "outputs": [
    {
     "name": "stdout",
     "output_type": "stream",
     "text": [
      "predicted response:\n",
      "[ 16.  99.  29. ... 110.  54.  18.]\n"
     ]
    }
   ],
   "source": [
    "prediccioTree = regressor.predict(x)\n",
    "print(f\"predicted response:\\n{prediccioTree}\")"
   ]
  },
  {
   "cell_type": "code",
   "execution_count": 42,
   "id": "697a8b07",
   "metadata": {
    "ExecuteTime": {
     "end_time": "2022-07-04T08:02:26.184096Z",
     "start_time": "2022-07-04T08:02:26.157114Z"
    }
   },
   "outputs": [
    {
     "data": {
      "text/html": [
       "<div>\n",
       "<style scoped>\n",
       "    .dataframe tbody tr th:only-of-type {\n",
       "        vertical-align: middle;\n",
       "    }\n",
       "\n",
       "    .dataframe tbody tr th {\n",
       "        vertical-align: top;\n",
       "    }\n",
       "\n",
       "    .dataframe thead th {\n",
       "        text-align: right;\n",
       "    }\n",
       "</style>\n",
       "<table border=\"1\" class=\"dataframe\">\n",
       "  <thead>\n",
       "    <tr style=\"text-align: right;\">\n",
       "      <th></th>\n",
       "      <th>Actual</th>\n",
       "      <th>Predicted</th>\n",
       "    </tr>\n",
       "  </thead>\n",
       "  <tbody>\n",
       "    <tr>\n",
       "      <th>0</th>\n",
       "      <td>16.0</td>\n",
       "      <td>16.0</td>\n",
       "    </tr>\n",
       "    <tr>\n",
       "      <th>1</th>\n",
       "      <td>99.0</td>\n",
       "      <td>99.0</td>\n",
       "    </tr>\n",
       "    <tr>\n",
       "      <th>2</th>\n",
       "      <td>29.0</td>\n",
       "      <td>29.0</td>\n",
       "    </tr>\n",
       "    <tr>\n",
       "      <th>3</th>\n",
       "      <td>32.0</td>\n",
       "      <td>32.0</td>\n",
       "    </tr>\n",
       "    <tr>\n",
       "      <th>4</th>\n",
       "      <td>23.0</td>\n",
       "      <td>23.0</td>\n",
       "    </tr>\n",
       "    <tr>\n",
       "      <th>...</th>\n",
       "      <td>...</td>\n",
       "      <td>...</td>\n",
       "    </tr>\n",
       "    <tr>\n",
       "      <th>99995</th>\n",
       "      <td>23.0</td>\n",
       "      <td>23.0</td>\n",
       "    </tr>\n",
       "    <tr>\n",
       "      <th>99996</th>\n",
       "      <td>26.0</td>\n",
       "      <td>26.0</td>\n",
       "    </tr>\n",
       "    <tr>\n",
       "      <th>99997</th>\n",
       "      <td>110.0</td>\n",
       "      <td>110.0</td>\n",
       "    </tr>\n",
       "    <tr>\n",
       "      <th>99998</th>\n",
       "      <td>54.0</td>\n",
       "      <td>54.0</td>\n",
       "    </tr>\n",
       "    <tr>\n",
       "      <th>99999</th>\n",
       "      <td>18.0</td>\n",
       "      <td>18.0</td>\n",
       "    </tr>\n",
       "  </tbody>\n",
       "</table>\n",
       "<p>100000 rows × 2 columns</p>\n",
       "</div>"
      ],
      "text/plain": [
       "       Actual  Predicted\n",
       "0        16.0       16.0\n",
       "1        99.0       99.0\n",
       "2        29.0       29.0\n",
       "3        32.0       32.0\n",
       "4        23.0       23.0\n",
       "...       ...        ...\n",
       "99995    23.0       23.0\n",
       "99996    26.0       26.0\n",
       "99997   110.0      110.0\n",
       "99998    54.0       54.0\n",
       "99999    18.0       18.0\n",
       "\n",
       "[100000 rows x 2 columns]"
      ]
     },
     "execution_count": 42,
     "metadata": {},
     "output_type": "execute_result"
    }
   ],
   "source": [
    "# Comparació X-test amb la predicció\n",
    "pred_Tree = pd.DataFrame({\"Actual\":y, \"Predicted\":prediccioTree})\n",
    "pred_Tree\n",
    "\n",
    "#No entenc perquè em surt igual"
   ]
  },
  {
   "cell_type": "code",
   "execution_count": 43,
   "id": "6db44c85",
   "metadata": {
    "ExecuteTime": {
     "end_time": "2022-07-04T08:02:26.215079Z",
     "start_time": "2022-07-04T08:02:26.187095Z"
    }
   },
   "outputs": [
    {
     "name": "stdout",
     "output_type": "stream",
     "text": [
      "DECISION TREE REGRESSOR\n",
      "Mean Absolute Error: 0.0\n",
      "Mean Squared Error: 0.0\n",
      "Root Mean Squared Error: 0.0\n"
     ]
    }
   ],
   "source": [
    "print(\"DECISION TREE REGRESSOR\")\n",
    "print('Mean Absolute Error:', metrics.mean_absolute_error(y, prediccioTree))\n",
    "print('Mean Squared Error:', metrics.mean_squared_error(y, prediccioTree))\n",
    "print('Root Mean Squared Error:', np.sqrt(metrics.mean_squared_error(y, prediccioTree)))"
   ]
  },
  {
   "cell_type": "markdown",
   "id": "5165c4f0",
   "metadata": {},
   "source": [
    "## NIVELL 2\n",
    "\n",
    "\n",
    "\n",
    "\n",
    "### Exercici 5\n",
    "Realitza algun procés d’enginyeria de variables per millorar-ne la predicció\n",
    "\n",
    "\n",
    "\n"
   ]
  },
  {
   "cell_type": "code",
   "execution_count": null,
   "id": "593d2beb",
   "metadata": {},
   "outputs": [],
   "source": []
  },
  {
   "cell_type": "markdown",
   "id": "ee2fedd9",
   "metadata": {},
   "source": [
    "## NIVELL 3\n",
    "\n",
    "\n",
    "### Exercici 6\n",
    "No utilitzis la variable DepDelay a l’hora de fer prediccions"
   ]
  },
  {
   "cell_type": "code",
   "execution_count": null,
   "id": "8cc4cda5",
   "metadata": {},
   "outputs": [],
   "source": []
  }
 ],
 "metadata": {
  "hide_input": false,
  "kernelspec": {
   "display_name": "Python 3 (ipykernel)",
   "language": "python",
   "name": "python3"
  },
  "language_info": {
   "codemirror_mode": {
    "name": "ipython",
    "version": 3
   },
   "file_extension": ".py",
   "mimetype": "text/x-python",
   "name": "python",
   "nbconvert_exporter": "python",
   "pygments_lexer": "ipython3",
   "version": "3.9.7"
  },
  "latex_envs": {
   "LaTeX_envs_menu_present": true,
   "autoclose": false,
   "autocomplete": true,
   "bibliofile": "biblio.bib",
   "cite_by": "apalike",
   "current_citInitial": 1,
   "eqLabelWithNumbers": true,
   "eqNumInitial": 1,
   "hotkeys": {
    "equation": "Ctrl-E",
    "itemize": "Ctrl-I"
   },
   "labels_anchors": false,
   "latex_user_defs": false,
   "report_style_numbering": false,
   "user_envs_cfg": false
  },
  "toc": {
   "base_numbering": 1,
   "nav_menu": {},
   "number_sections": true,
   "sideBar": true,
   "skip_h1_title": false,
   "title_cell": "Table of Contents",
   "title_sidebar": "Contents",
   "toc_cell": false,
   "toc_position": {},
   "toc_section_display": true,
   "toc_window_display": false
  },
  "varInspector": {
   "cols": {
    "lenName": 16,
    "lenType": 16,
    "lenVar": 40
   },
   "kernels_config": {
    "python": {
     "delete_cmd_postfix": "",
     "delete_cmd_prefix": "del ",
     "library": "var_list.py",
     "varRefreshCmd": "print(var_dic_list())"
    },
    "r": {
     "delete_cmd_postfix": ") ",
     "delete_cmd_prefix": "rm(",
     "library": "var_list.r",
     "varRefreshCmd": "cat(var_dic_list()) "
    }
   },
   "types_to_exclude": [
    "module",
    "function",
    "builtin_function_or_method",
    "instance",
    "_Feature"
   ],
   "window_display": false
  }
 },
 "nbformat": 4,
 "nbformat_minor": 5
}
